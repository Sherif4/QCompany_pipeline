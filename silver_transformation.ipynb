{
 "cells": [
  {
   "cell_type": "code",
   "execution_count": 7,
   "id": "8a0a705e-d013-4349-b873-78fcb1d1cda5",
   "metadata": {},
   "outputs": [],
   "source": [
    "import re\n",
    "from pyspark.sql import SparkSession\n",
    "from functools import reduce\n",
    "from pyspark.sql.functions import col, regexp_replace, trim\n",
    "from pyspark.serializers import PickleSerializer, AutoBatchedSerializer\n",
    "from datetime import datetime"
   ]
  },
  {
   "cell_type": "code",
   "execution_count": 8,
   "id": "9dbd3353-908f-4d90-850f-c36424d80817",
   "metadata": {},
   "outputs": [],
   "source": [
    "spark = SparkSession\\\n",
    "    .builder\\\n",
    "    .master(\"local[4]\")\\\n",
    "    .appName(\"sales_transactions\")\\\n",
    "    .config(\"spark.eventLog.logBlockUpdates.enabled\", True)\\\n",
    "    .getOrCreate()\n",
    "\n",
    "sc = spark.sparkContext"
   ]
  },
  {
   "cell_type": "code",
   "execution_count": 9,
   "id": "6120cae5-dc75-4881-b2c2-139445c22d7b",
   "metadata": {},
   "outputs": [],
   "source": [
    "now = datetime.now()\n",
    "date_str = now.strftime(\"%Y%m%d\")\n",
    "hour_str = now.strftime(\"%H\")"
   ]
  },
  {
   "cell_type": "code",
   "execution_count": 13,
   "id": "eaf8fd60-448d-4761-9e0c-c69f3851b8ff",
   "metadata": {},
   "outputs": [
    {
     "name": "stdout",
     "output_type": "stream",
     "text": [
      "+----------------+----------------+-----------+--------------+--------------+--------------+---------+----------+-----------------+----------------+-------+-------+-------+-------+-------+-----+----------+---------+--------------+----------------+--------------------+-------------+\n",
      "|transaction_date|  transaction_id|customer_id|customer_fname|cusomter_lname|sales_agent_id|branch_id|product_id|     product_name|product_category|offer_1|offer_2|offer_3|offer_4|offer_5|units|unit_price|is_online|payment_method|shipping_address|      customer_email|discount_perc|\n",
      "+----------------+----------------+-----------+--------------+--------------+--------------+---------+----------+-----------------+----------------+-------+-------+-------+-------+-------+-----+----------+---------+--------------+----------------+--------------------+-------------+\n",
      "|      2022-12-13|trx-675189967400|      85552|         James|         Smith|             8|        3|        20|            Heels|        Footwear|   null|   null|   True|   null|   null|   10|     59.99|       no|   Credit Card|            null|james.smith@hotma...|           15|\n",
      "|       2023-2-22|trx-854274530672|      85514|          John|         Davis|             7|        5|        25|  Washing Machine|      Appliances|   True|   null|   null|   null|   null|    2|    499.99|       no|          Cash|            null|john.davis@gmail.com|            5|\n",
      "|       2022-8-11|trx-133048404295|      85464|        Sophia|         Brown|             8|        5|        29|Hair Straightener|      Appliances|   null|   null|   null|   null|   null|    4|     39.99|       no|   Credit Card|            null|sophia.brown@hotm...|            0|\n",
      "|        2023-7-8|trx-945140296146|      85545|       Michael|         Davis|             7|        1|         1|           Laptop|     Electronics|   null|   null|   null|   True|   null|    4|    999.99|       no|   Credit Card|            null|michael.davis@hot...|           20|\n",
      "|        2023-1-7|trx-309013678277|      85558|        Sophia|        Taylor|            10|        3|        22|     Coffee Maker|      Appliances|   null|   True|   null|   null|   null|    6|     79.99|       no|          Cash|            null|sophia.taylor@gma...|           10|\n",
      "+----------------+----------------+-----------+--------------+--------------+--------------+---------+----------+-----------------+----------------+-------+-------+-------+-------+-------+-----+----------+---------+--------------+----------------+--------------------+-------------+\n",
      "only showing top 5 rows\n",
      "\n"
     ]
    }
   ],
   "source": [
    "input = spark.read.csv(f\"hdfs:///data/retail_silver/{date_str}/{hour_str}/sales_transactions_SS_cleaned_{date_str}_{hour_str}.csv\", header='true')\n",
    "input.show(5)"
   ]
  },
  {
   "cell_type": "code",
   "execution_count": null,
   "id": "d044f03d-aed2-4c76-b6a4-3dd8d0892d3d",
   "metadata": {},
   "outputs": [],
   "source": [
    "customers = input.select(\"customer_id\",\"customer_fname\",\"cusomter_lname\",\"customer_email\").dropDuplicates()\n",
    "customers"
   ]
  },
  {
   "cell_type": "code",
   "execution_count": null,
   "id": "0ffeb9f5-c11a-4461-a378-c15a8fecd713",
   "metadata": {},
   "outputs": [],
   "source": []
  }
 ],
 "metadata": {
  "kernelspec": {
   "display_name": "Pyspark 2",
   "language": "python",
   "name": "pyspark2"
  },
  "language_info": {
   "codemirror_mode": {
    "name": "ipython",
    "version": 3
   },
   "file_extension": ".py",
   "mimetype": "text/x-python",
   "name": "python",
   "nbconvert_exporter": "python",
   "pygments_lexer": "ipython3",
   "version": "3.6.9"
  }
 },
 "nbformat": 4,
 "nbformat_minor": 5
}
