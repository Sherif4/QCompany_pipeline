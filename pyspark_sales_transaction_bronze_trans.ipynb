{
 "cells": [
  {
   "cell_type": "code",
   "execution_count": 1,
   "id": "a2f66ff8-3c80-4614-b50b-f158fdc99ebe",
   "metadata": {},
   "outputs": [],
   "source": [
    "import re\n",
    "from pyspark.sql import SparkSession\n",
    "from functools import reduce\n",
    "from pyspark.sql.functions import col, regexp_replace, trim, when\n",
    "from pyspark.serializers import PickleSerializer, AutoBatchedSerializer\n",
    "from datetime import datetime\n",
    "import subprocess\n",
    "from py4j.java_gateway import java_import\n",
    "import os\n"
   ]
  },
  {
   "cell_type": "code",
   "execution_count": 2,
   "id": "6a0869a3-007a-4c17-87ad-249124794144",
   "metadata": {},
   "outputs": [],
   "source": [
    "spark = SparkSession\\\n",
    "    .builder\\\n",
    "    .master(\"local[4]\")\\\n",
    "    .appName(\"sales_transactions\")\\\n",
    "    .config(\"spark.eventLog.logBlockUpdates.enabled\", True)\\\n",
    "    .getOrCreate()\n",
    "\n",
    "sc = spark.sparkContext"
   ]
  },
  {
   "cell_type": "code",
   "execution_count": 3,
   "id": "af6c6bee-184c-4f08-92a9-35ce94ce5ae8",
   "metadata": {},
   "outputs": [],
   "source": [
    "now = datetime.now()\n",
    "date_str = now.strftime(\"%Y%m%d\")\n",
    "hour_str = now.strftime(\"%H\")"
   ]
  },
  {
   "cell_type": "code",
   "execution_count": 4,
   "id": "4c80bfb5-9dce-43f2-b7a8-8c63c944e358",
   "metadata": {},
   "outputs": [
    {
     "name": "stdout",
     "output_type": "stream",
     "text": [
      "+----------------+----------------+-----------+--------------+--------------+--------------------+--------------+---------+----------+---------------+----------------+-------+-------+-------+-------+-------+-----+----------+---------+--------------+----------------+\n",
      "|transaction_date|  transaction_id|customer_id|customer_fname|cusomter_lname|      cusomter_email|sales_agent_id|branch_id|product_id|   product_name|product_category|offer_1|offer_2|offer_3|offer_4|offer_5|units|unit_price|is_online|payment_method|shipping_address|\n",
      "+----------------+----------------+-----------+--------------+--------------+--------------------+--------------+---------+----------+---------------+----------------+-------+-------+-------+-------+-------+-----+----------+---------+--------------+----------------+\n",
      "|       2023-5-20|trx-152546429674|      85469|     Alexander|         Brown|alexander.brown@g...|           1.0|      2.0|        22|   Coffee Maker|      Appliances|   null|   null|   null|   null|   null|   10|     79.99|       no|          Cash|            null|\n",
      "|      2022-10-25|trx-291375327542|      85512|       William|         Brown|william.brown@gma...|           3.0|      1.0|        24|        Blender|      Appliances|   null|   null|   null|   true|   null|    5|     49.99|       no|          Cash|            null|\n",
      "|        2022-2-5|trx-312507679871|      85484|          John|      Williams|john.williams@gma...|          10.0|      3.0|         4|     Headphones|     Electronics|   null|   null|   null|   null|   null|    1|     99.99|       no|   Credit Card|            null|\n",
      "|      2023-10-20|trx-193384855491|      85528|     Alexander|        Miller|alexander.miller@...|           7.0|      2.0|        25|Washing Machine|      Appliances|   null|   null|   null|   null|   null|    8|    499.99|       no|          Cash|            null|\n",
      "|      2022-11-17|trx-831626097654|      85500|          John|         Brown|john.brown@hotmai...|           5.0|      1.0|        14|         Camera|     Electronics|   null|   null|   true|   null|   null|   10|    399.99|       no|          Cash|            null|\n",
      "+----------------+----------------+-----------+--------------+--------------+--------------------+--------------+---------+----------+---------------+----------------+-------+-------+-------+-------+-------+-----+----------+---------+--------------+----------------+\n",
      "only showing top 5 rows\n",
      "\n"
     ]
    }
   ],
   "source": [
    "input = spark.read.parquet(f\"hdfs:///data/retail_bronze/{date_str}/{hour_str}/sales_transactions_SS_raw_{date_str}_{hour_str}.parquet\")\n",
    "input.show(5)"
   ]
  },
  {
   "cell_type": "code",
   "execution_count": 5,
   "id": "652fe7bd-3483-400e-b174-063205a74b40",
   "metadata": {},
   "outputs": [
    {
     "name": "stdout",
     "output_type": "stream",
     "text": [
      "+----------------------------+\n",
      "|customer_email              |\n",
      "+----------------------------+\n",
      "|alexander.brown@gmail.com   |\n",
      "|william.brown@gmail.com     |\n",
      "|john.williams@gmail.com     |\n",
      "|alexander.miller@yahoo.com  |\n",
      "|john.brown@hotmail.com      |\n",
      "|sophia.wilson@hotmail.com   |\n",
      "|alexander.moore@yahoo.com   |\n",
      "|alexander.wilson@hotmail.com|\n",
      "|michael.miller@yahoo.com    |\n",
      "|michael.brown@yahoo.com     |\n",
      "|john.taylor@yahoo.com       |\n",
      "|alexander.davis@yahoo.com   |\n",
      "|michael.brown@hotmail.com   |\n",
      "|james.smith@yahoo.com       |\n",
      "|emma.johnson@hotmail.com    |\n",
      "|john.johnson@yahoo.com      |\n",
      "|james.davis@yahoo.com       |\n",
      "|ava.miller@outlook.com      |\n",
      "|olivia.brown@outlook.com    |\n",
      "|sophia.brown@gmail.com      |\n",
      "+----------------------------+\n",
      "only showing top 20 rows\n",
      "\n"
     ]
    }
   ],
   "source": [
    "df_cleaned = input.withColumn(\"cleaned_email\", trim(regexp_replace(col(\"cusomter_email\"), r'[;*#()&}$\\[\\]\\{&\"\\'\\/>:\\%\\^|<\\\\]+.*$', '')))\n",
    "\n",
    "df_cleaned = df_cleaned.withColumn(\"customer_email\", regexp_replace(col(\"cleaned_email\"), r'\\.comm$', '.com'))\n",
    "df_cleaned.select(\"customer_email\").show(truncate=False)"
   ]
  },
  {
   "cell_type": "code",
   "execution_count": 6,
   "id": "9d1cccf7-c4d8-42f4-84b7-2d0de0131c7f",
   "metadata": {},
   "outputs": [],
   "source": [
    "df_cleaned = df_cleaned.withColumn(\"discount_perc\", when(col(\"offer_1\") == \"True\", 5). \n",
    "                                   when(col(\"offer_2\") == \"True\", 10).\n",
    "                                   when(col(\"offer_3\") == \"True\", 15).\n",
    "                                   when(col(\"offer_4\") == \"True\", 20).\n",
    "                                   when(col(\"offer_5\") == \"True\", 25).\n",
    "                                   otherwise(0))\n",
    "df_modified = df_cleaned.drop(\"cleaned_email\", \"cusomter_email\")\n",
    "df_modified = df_modified.withColumnRenamed(\"cusomter_lname\", \"customer_lname\")"
   ]
  },
  {
   "cell_type": "code",
   "execution_count": 7,
   "id": "8ea76738-08e0-4bfc-934b-482c0d3a8ae7",
   "metadata": {},
   "outputs": [],
   "source": [
    "df_modified.repartition(1).write.mode('overwrite').parquet(f\"hdfs:///data/retail_silver/{date_str}/{hour_str}\")"
   ]
  },
  {
   "cell_type": "code",
   "execution_count": 8,
   "id": "8d780607-9d1f-40d4-9751-20a03171ac3a",
   "metadata": {},
   "outputs": [],
   "source": [
    "list_files_process = subprocess.run([\"hadoop\", \"fs\", \"-ls\", \"-C\", f\"hdfs:///data/retail_silver/{date_str}/{hour_str}/\"], stdout=subprocess.PIPE, stderr=subprocess.PIPE)                        "
   ]
  },
  {
   "cell_type": "code",
   "execution_count": 9,
   "id": "092156c7-6a93-4ac8-8d65-c62b4088da7a",
   "metadata": {},
   "outputs": [
    {
     "name": "stdout",
     "output_type": "stream",
     "text": [
      "hdfs:///data/retail_silver/20240709/17/part-00000-649f7d29-e290-4222-89fd-a6c6250999d9-c000.snappy.parquet\n"
     ]
    }
   ],
   "source": [
    "if list_files_process.returncode != 0:\n",
    "        print(f\"Error listing files in hdfs:///data/retail_silver/{date_str}/{hour_str}: {list_files_process.stderr.decode()}\")\n",
    "else:\n",
    "    stdout_str = list_files_process.stdout.decode()\n",
    "    file_list = stdout_str.splitlines()\n",
    "    file_to_rename = file_list[1]\n",
    "    print(file_list[1])\n",
    "    new_filename =f\"hdfs:///data/retail_silver/{date_str}/{hour_str}/sales_transactions_SS_cleaned_{date_str}_{hour_str}.parquet\"\n",
    "    subprocess.run([\"hadoop\", \"fs\", \"-mv\", file_to_rename, new_filename])\n"
   ]
  },
  {
   "cell_type": "code",
   "execution_count": 10,
   "id": "f1555dda-4fa4-48d7-b2f8-d49fad6bdcee",
   "metadata": {},
   "outputs": [
    {
     "data": {
      "text/html": [
       "<table border='1'>\n",
       "<tr><th>transaction_date</th><th>transaction_id</th><th>customer_id</th><th>customer_fname</th><th>customer_lname</th><th>sales_agent_id</th><th>branch_id</th><th>product_id</th><th>product_name</th><th>product_category</th><th>offer_1</th><th>offer_2</th><th>offer_3</th><th>offer_4</th><th>offer_5</th><th>units</th><th>unit_price</th><th>is_online</th><th>payment_method</th><th>shipping_address</th><th>customer_email</th><th>discount_perc</th></tr>\n",
       "<tr><td>2023-10-25</td><td>trx-072037549384</td><td>85550</td><td>Emma</td><td>Wilson</td><td>2.0</td><td>3.0</td><td>3</td><td>Tablet</td><td>Electronics</td><td>null</td><td>null</td><td>null</td><td>null</td><td>null</td><td>7</td><td>299.99</td><td>no</td><td>Cash</td><td>null</td><td>emma.wilson@outlo...</td><td>0</td></tr>\n",
       "<tr><td>2022-5-8</td><td>trx-125208155197</td><td>85512</td><td>Olivia</td><td>Miller</td><td>9.0</td><td>5.0</td><td>11</td><td>TV</td><td>Electronics</td><td>null</td><td>null</td><td>null</td><td>null</td><td>null</td><td>3</td><td>899.99</td><td>no</td><td>Credit Card</td><td>null</td><td>olivia.miller@out...</td><td>0</td></tr>\n",
       "<tr><td>2023-5-3</td><td>trx-667682345565</td><td>85512</td><td>Olivia</td><td>Miller</td><td>7.0</td><td>2.0</td><td>10</td><td>Sandals</td><td>Footwear</td><td>null</td><td>null</td><td>null</td><td>true</td><td>null</td><td>3</td><td>39.99</td><td>no</td><td>Credit Card</td><td>null</td><td>olivia.miller@out...</td><td>20</td></tr>\n",
       "<tr><td>2022-1-9</td><td>trx-706068352444</td><td>85526</td><td>Sophia</td><td>Smith</td><td>2.0</td><td>4.0</td><td>2</td><td>Smartphone</td><td>Electronics</td><td>null</td><td>null</td><td>null</td><td>null</td><td>true</td><td>7</td><td>699.99</td><td>no</td><td>Credit Card</td><td>null</td><td>sophia.smith@hotm...</td><td>25</td></tr>\n",
       "<tr><td>2022-12-10</td><td>trx-040134528974</td><td>85535</td><td>Michael</td><td>Davis</td><td>9.0</td><td>3.0</td><td>16</td><td>Skirt</td><td>Clothing</td><td>null</td><td>null</td><td>null</td><td>true</td><td>null</td><td>7</td><td>39.99</td><td>no</td><td>Cash</td><td>null</td><td>michael.davis@out...</td><td>20</td></tr>\n",
       "<tr><td>2023-5-17</td><td>trx-197763314500</td><td>85555</td><td>John</td><td>Johnson</td><td>1.0</td><td>4.0</td><td>6</td><td>Jeans</td><td>Clothing</td><td>null</td><td>null</td><td>null</td><td>null</td><td>null</td><td>7</td><td>49.99</td><td>no</td><td>Credit Card</td><td>null</td><td>john.johnson@hotm...</td><td>0</td></tr>\n",
       "<tr><td>2023-10-17</td><td>trx-390556792430</td><td>85486</td><td>Olivia</td><td>Smith</td><td>7.0</td><td>5.0</td><td>27</td><td>Iron</td><td>Appliances</td><td>null</td><td>null</td><td>null</td><td>null</td><td>null</td><td>5</td><td>29.99</td><td>no</td><td>Cash</td><td>null</td><td>olivia.smith@outl...</td><td>0</td></tr>\n",
       "<tr><td>2022-2-16</td><td>trx-589236970173</td><td>85484</td><td>Olivia</td><td>Brown</td><td>2.0</td><td>1.0</td><td>21</td><td>Microwave</td><td>Appliances</td><td>null</td><td>null</td><td>null</td><td>null</td><td>null</td><td>1</td><td>129.99</td><td>no</td><td>Cash</td><td>null</td><td>olivia.brown@hotm...</td><td>0</td></tr>\n",
       "<tr><td>2023-6-26</td><td>trx-741827755865</td><td>85531</td><td>Michael</td><td>Taylor</td><td>2.0</td><td>1.0</td><td>19</td><td>Sandals</td><td>Footwear</td><td>true</td><td>null</td><td>null</td><td>null</td><td>null</td><td>2</td><td>29.99</td><td>no</td><td>Cash</td><td>null</td><td>michael.taylor@ho...</td><td>5</td></tr>\n",
       "<tr><td>2023-8-1</td><td>trx-769118815563</td><td>85535</td><td>Michael</td><td>Davis</td><td>7.0</td><td>2.0</td><td>3</td><td>Tablet</td><td>Electronics</td><td>null</td><td>null</td><td>null</td><td>null</td><td>null</td><td>7</td><td>299.99</td><td>no</td><td>Credit Card</td><td>null</td><td>michael.davis@out...</td><td>0</td></tr>\n",
       "<tr><td>2022-2-17</td><td>trx-023241121459</td><td>85472</td><td>Olivia</td><td>Miller</td><td>4.0</td><td>5.0</td><td>3</td><td>Tablet</td><td>Electronics</td><td>null</td><td>null</td><td>null</td><td>null</td><td>null</td><td>8</td><td>299.99</td><td>no</td><td>Cash</td><td>null</td><td>olivia.miller@yah...</td><td>0</td></tr>\n",
       "<tr><td>2023-3-8</td><td>trx-185358898564</td><td>85487</td><td>Olivia</td><td>Smith</td><td>5.0</td><td>5.0</td><td>4</td><td>Headphones</td><td>Electronics</td><td>null</td><td>true</td><td>null</td><td>null</td><td>null</td><td>9</td><td>99.99</td><td>no</td><td>Cash</td><td>null</td><td>olivia.smith@hotm...</td><td>10</td></tr>\n",
       "<tr><td>2023-8-20</td><td>trx-453062896071</td><td>85511</td><td>Ava</td><td>Jones</td><td>9.0</td><td>4.0</td><td>7</td><td>Dress</td><td>Clothing</td><td>null</td><td>null</td><td>null</td><td>null</td><td>null</td><td>2</td><td>59.99</td><td>no</td><td>Cash</td><td>null</td><td>ava.jones@outlook...</td><td>0</td></tr>\n",
       "<tr><td>2022-7-6</td><td>trx-591830305903</td><td>85536</td><td>Sophia</td><td>Jones</td><td>9.0</td><td>3.0</td><td>7</td><td>Dress</td><td>Clothing</td><td>null</td><td>null</td><td>true</td><td>null</td><td>null</td><td>5</td><td>59.99</td><td>no</td><td>Credit Card</td><td>null</td><td>sophia.jones@hotm...</td><td>15</td></tr>\n",
       "<tr><td>2023-6-22</td><td>trx-043168693863</td><td>85487</td><td>Olivia</td><td>Smith</td><td>6.0</td><td>2.0</td><td>1</td><td>Laptop</td><td>Electronics</td><td>true</td><td>null</td><td>null</td><td>null</td><td>null</td><td>9</td><td>999.99</td><td>no</td><td>Credit Card</td><td>null</td><td>olivia.smith@hotm...</td><td>5</td></tr>\n",
       "<tr><td>2022-11-28</td><td>trx-244090786823</td><td>85513</td><td>James</td><td>Davis</td><td>6.0</td><td>1.0</td><td>13</td><td>Printer</td><td>Electronics</td><td>null</td><td>null</td><td>null</td><td>null</td><td>null</td><td>3</td><td>149.99</td><td>no</td><td>Credit Card</td><td>null</td><td>james.davis@outlo...</td><td>0</td></tr>\n",
       "<tr><td>2023-9-10</td><td>trx-201455972201</td><td>85535</td><td>Michael</td><td>Davis</td><td>4.0</td><td>4.0</td><td>6</td><td>Jeans</td><td>Clothing</td><td>true</td><td>null</td><td>null</td><td>null</td><td>null</td><td>9</td><td>49.99</td><td>no</td><td>Cash</td><td>null</td><td>michael.davis@out...</td><td>5</td></tr>\n",
       "<tr><td>2023-10-6</td><td>trx-821630062768</td><td>85528</td><td>William</td><td>Brown</td><td>5.0</td><td>1.0</td><td>8</td><td>Sneakers</td><td>Footwear</td><td>null</td><td>null</td><td>true</td><td>null</td><td>null</td><td>9</td><td>79.99</td><td>no</td><td>Credit Card</td><td>null</td><td>william.brown@gma...</td><td>15</td></tr>\n",
       "<tr><td>2022-4-8</td><td>trx-876475973184</td><td>85526</td><td>Sophia</td><td>Smith</td><td>6.0</td><td>5.0</td><td>4</td><td>Headphones</td><td>Electronics</td><td>null</td><td>null</td><td>null</td><td>null</td><td>null</td><td>5</td><td>99.99</td><td>no</td><td>Credit Card</td><td>null</td><td>sophia.smith@hotm...</td><td>0</td></tr>\n",
       "<tr><td>2023-10-11</td><td>trx-548274108254</td><td>85488</td><td>Olivia</td><td>Wilson</td><td>9.0</td><td>3.0</td><td>17</td><td>Blouse</td><td>Clothing</td><td>null</td><td>null</td><td>null</td><td>true</td><td>null</td><td>5</td><td>29.99</td><td>no</td><td>Cash</td><td>null</td><td>olivia.wilson@yah...</td><td>20</td></tr>\n",
       "</table>\n",
       "only showing top 20 rows\n"
      ],
      "text/plain": [
       "+----------------+----------------+-----------+--------------+--------------+--------------+---------+----------+------------+----------------+-------+-------+-------+-------+-------+-----+----------+---------+--------------+----------------+--------------------+-------------+\n",
       "|transaction_date|  transaction_id|customer_id|customer_fname|customer_lname|sales_agent_id|branch_id|product_id|product_name|product_category|offer_1|offer_2|offer_3|offer_4|offer_5|units|unit_price|is_online|payment_method|shipping_address|      customer_email|discount_perc|\n",
       "+----------------+----------------+-----------+--------------+--------------+--------------+---------+----------+------------+----------------+-------+-------+-------+-------+-------+-----+----------+---------+--------------+----------------+--------------------+-------------+\n",
       "|      2023-10-25|trx-072037549384|      85550|          Emma|        Wilson|           2.0|      3.0|         3|      Tablet|     Electronics|   null|   null|   null|   null|   null|    7|    299.99|       no|          Cash|            null|emma.wilson@outlo...|            0|\n",
       "|        2022-5-8|trx-125208155197|      85512|        Olivia|        Miller|           9.0|      5.0|        11|          TV|     Electronics|   null|   null|   null|   null|   null|    3|    899.99|       no|   Credit Card|            null|olivia.miller@out...|            0|\n",
       "|        2023-5-3|trx-667682345565|      85512|        Olivia|        Miller|           7.0|      2.0|        10|     Sandals|        Footwear|   null|   null|   null|   true|   null|    3|     39.99|       no|   Credit Card|            null|olivia.miller@out...|           20|\n",
       "|        2022-1-9|trx-706068352444|      85526|        Sophia|         Smith|           2.0|      4.0|         2|  Smartphone|     Electronics|   null|   null|   null|   null|   true|    7|    699.99|       no|   Credit Card|            null|sophia.smith@hotm...|           25|\n",
       "|      2022-12-10|trx-040134528974|      85535|       Michael|         Davis|           9.0|      3.0|        16|       Skirt|        Clothing|   null|   null|   null|   true|   null|    7|     39.99|       no|          Cash|            null|michael.davis@out...|           20|\n",
       "|       2023-5-17|trx-197763314500|      85555|          John|       Johnson|           1.0|      4.0|         6|       Jeans|        Clothing|   null|   null|   null|   null|   null|    7|     49.99|       no|   Credit Card|            null|john.johnson@hotm...|            0|\n",
       "|      2023-10-17|trx-390556792430|      85486|        Olivia|         Smith|           7.0|      5.0|        27|        Iron|      Appliances|   null|   null|   null|   null|   null|    5|     29.99|       no|          Cash|            null|olivia.smith@outl...|            0|\n",
       "|       2022-2-16|trx-589236970173|      85484|        Olivia|         Brown|           2.0|      1.0|        21|   Microwave|      Appliances|   null|   null|   null|   null|   null|    1|    129.99|       no|          Cash|            null|olivia.brown@hotm...|            0|\n",
       "|       2023-6-26|trx-741827755865|      85531|       Michael|        Taylor|           2.0|      1.0|        19|     Sandals|        Footwear|   true|   null|   null|   null|   null|    2|     29.99|       no|          Cash|            null|michael.taylor@ho...|            5|\n",
       "|        2023-8-1|trx-769118815563|      85535|       Michael|         Davis|           7.0|      2.0|         3|      Tablet|     Electronics|   null|   null|   null|   null|   null|    7|    299.99|       no|   Credit Card|            null|michael.davis@out...|            0|\n",
       "|       2022-2-17|trx-023241121459|      85472|        Olivia|        Miller|           4.0|      5.0|         3|      Tablet|     Electronics|   null|   null|   null|   null|   null|    8|    299.99|       no|          Cash|            null|olivia.miller@yah...|            0|\n",
       "|        2023-3-8|trx-185358898564|      85487|        Olivia|         Smith|           5.0|      5.0|         4|  Headphones|     Electronics|   null|   true|   null|   null|   null|    9|     99.99|       no|          Cash|            null|olivia.smith@hotm...|           10|\n",
       "|       2023-8-20|trx-453062896071|      85511|           Ava|         Jones|           9.0|      4.0|         7|       Dress|        Clothing|   null|   null|   null|   null|   null|    2|     59.99|       no|          Cash|            null|ava.jones@outlook...|            0|\n",
       "|        2022-7-6|trx-591830305903|      85536|        Sophia|         Jones|           9.0|      3.0|         7|       Dress|        Clothing|   null|   null|   true|   null|   null|    5|     59.99|       no|   Credit Card|            null|sophia.jones@hotm...|           15|\n",
       "|       2023-6-22|trx-043168693863|      85487|        Olivia|         Smith|           6.0|      2.0|         1|      Laptop|     Electronics|   true|   null|   null|   null|   null|    9|    999.99|       no|   Credit Card|            null|olivia.smith@hotm...|            5|\n",
       "|      2022-11-28|trx-244090786823|      85513|         James|         Davis|           6.0|      1.0|        13|     Printer|     Electronics|   null|   null|   null|   null|   null|    3|    149.99|       no|   Credit Card|            null|james.davis@outlo...|            0|\n",
       "|       2023-9-10|trx-201455972201|      85535|       Michael|         Davis|           4.0|      4.0|         6|       Jeans|        Clothing|   true|   null|   null|   null|   null|    9|     49.99|       no|          Cash|            null|michael.davis@out...|            5|\n",
       "|       2023-10-6|trx-821630062768|      85528|       William|         Brown|           5.0|      1.0|         8|    Sneakers|        Footwear|   null|   null|   true|   null|   null|    9|     79.99|       no|   Credit Card|            null|william.brown@gma...|           15|\n",
       "|        2022-4-8|trx-876475973184|      85526|        Sophia|         Smith|           6.0|      5.0|         4|  Headphones|     Electronics|   null|   null|   null|   null|   null|    5|     99.99|       no|   Credit Card|            null|sophia.smith@hotm...|            0|\n",
       "|      2023-10-11|trx-548274108254|      85488|        Olivia|        Wilson|           9.0|      3.0|        17|      Blouse|        Clothing|   null|   null|   null|   true|   null|    5|     29.99|       no|          Cash|            null|olivia.wilson@yah...|           20|\n",
       "+----------------+----------------+-----------+--------------+--------------+--------------+---------+----------+------------+----------------+-------+-------+-------+-------+-------+-----+----------+---------+--------------+----------------+--------------------+-------------+\n",
       "only showing top 20 rows"
      ]
     },
     "execution_count": 10,
     "metadata": {},
     "output_type": "execute_result"
    }
   ],
   "source": [
    "df_modified"
   ]
  },
  {
   "cell_type": "code",
   "execution_count": 11,
   "id": "87ee3534-ccc7-4115-941a-142e8c4fde35",
   "metadata": {},
   "outputs": [],
   "source": [
    "spark.stop()"
   ]
  },
  {
   "cell_type": "code",
   "execution_count": null,
   "id": "287cf214-396c-4c06-b697-a3a14703b41c",
   "metadata": {},
   "outputs": [],
   "source": []
  }
 ],
 "metadata": {
  "kernelspec": {
   "display_name": "Pyspark 2",
   "language": "python",
   "name": "pyspark2"
  },
  "language_info": {
   "codemirror_mode": {
    "name": "ipython",
    "version": 3
   },
   "file_extension": ".py",
   "mimetype": "text/x-python",
   "name": "python",
   "nbconvert_exporter": "python",
   "pygments_lexer": "ipython3",
   "version": "3.6.9"
  }
 },
 "nbformat": 4,
 "nbformat_minor": 5
}
