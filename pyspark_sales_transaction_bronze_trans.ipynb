{
 "cells": [
  {
   "cell_type": "code",
   "execution_count": 7,
   "id": "a2f66ff8-3c80-4614-b50b-f158fdc99ebe",
   "metadata": {},
   "outputs": [],
   "source": [
    "import re\n",
    "from pyspark.sql import SparkSession\n",
    "from functools import reduce\n",
    "from pyspark.sql.functions import col, regexp_replace, trim, when\n",
    "from pyspark.serializers import PickleSerializer, AutoBatchedSerializer\n",
    "from datetime import datetime"
   ]
  },
  {
   "cell_type": "code",
   "execution_count": 2,
   "id": "6a0869a3-007a-4c17-87ad-249124794144",
   "metadata": {},
   "outputs": [],
   "source": [
    "spark = SparkSession\\\n",
    "    .builder\\\n",
    "    .master(\"local[4]\")\\\n",
    "    .appName(\"sales_transactions\")\\\n",
    "    .config(\"spark.eventLog.logBlockUpdates.enabled\", True)\\\n",
    "    .getOrCreate()\n",
    "\n",
    "sc = spark.sparkContext"
   ]
  },
  {
   "cell_type": "code",
   "execution_count": 3,
   "id": "af6c6bee-184c-4f08-92a9-35ce94ce5ae8",
   "metadata": {},
   "outputs": [],
   "source": [
    "now = datetime.now()\n",
    "date_str = now.strftime(\"%Y%m%d\")\n",
    "hour_str = now.strftime(\"%H\")"
   ]
  },
  {
   "cell_type": "code",
   "execution_count": 4,
   "id": "4c80bfb5-9dce-43f2-b7a8-8c63c944e358",
   "metadata": {},
   "outputs": [
    {
     "name": "stdout",
     "output_type": "stream",
     "text": [
      "+----------------+----------------+-----------+--------------+--------------+--------------------+--------------+---------+----------+---------------+----------------+-------+-------+-------+-------+-------+-----+----------+---------+--------------+----------------+\n",
      "|transaction_date|  transaction_id|customer_id|customer_fname|cusomter_lname|      cusomter_email|sales_agent_id|branch_id|product_id|   product_name|product_category|offer_1|offer_2|offer_3|offer_4|offer_5|units|unit_price|is_online|payment_method|shipping_address|\n",
      "+----------------+----------------+-----------+--------------+--------------+--------------------+--------------+---------+----------+---------------+----------------+-------+-------+-------+-------+-------+-----+----------+---------+--------------+----------------+\n",
      "|      2023-10-18|trx-237976222990|      85517|           Mia|         Jones|mia.jones@outlook...|             6|        1|        10|        Sandals|        Footwear|   null|   null|   null|   null|   True|    1|     39.99|       no|          Cash|            null|\n",
      "|        2022-5-8|trx-891084445200|      85497|       Michael|      Williams|michael.williams@...|             9|        2|        27|           Iron|      Appliances|   null|   null|   True|   null|   null|    1|     29.99|       no|   Credit Card|            null|\n",
      "|      2022-11-20|trx-911377237189|      85485|         James|       Johnson|james.johnson@hot...|             6|        5|         9|          Boots|        Footwear|   null|   null|   null|   null|   null|    8|    129.99|       no|          Cash|            null|\n",
      "|       2023-5-18|trx-121263458494|      85468|       William|         Moore|william.moore@out...|             9|        6|         1|         Laptop|     Electronics|   True|   null|   null|   null|   null|    4|    999.99|       no|   Credit Card|            null|\n",
      "|        2022-2-7|trx-617255070261|      85535|        Olivia|       Johnson|olivia.johnson@ya...|             4|        4|        30|Electric Kettle|      Appliances|   null|   null|   null|   null|   null|    3|     24.99|       no|          Cash|            null|\n",
      "+----------------+----------------+-----------+--------------+--------------+--------------------+--------------+---------+----------+---------------+----------------+-------+-------+-------+-------+-------+-----+----------+---------+--------------+----------------+\n",
      "only showing top 5 rows\n",
      "\n"
     ]
    }
   ],
   "source": [
    "input = spark.read.csv(f\"hdfs:///data/retail_bronze/{date_str}/{hour_str}/sales_transactions_SS_raw_{date_str}_{hour_str}.csv\", header='true')\n",
    "input.show(5)"
   ]
  },
  {
   "cell_type": "code",
   "execution_count": 5,
   "id": "652fe7bd-3483-400e-b174-063205a74b40",
   "metadata": {},
   "outputs": [
    {
     "name": "stdout",
     "output_type": "stream",
     "text": [
      "+--------------------------+\n",
      "|customer_email            |\n",
      "+--------------------------+\n",
      "|mia.jones@outlook.com     |\n",
      "|michael.williams@yahoo.com|\n",
      "|james.johnson@hotmail.com |\n",
      "|william.moore@outlook.com |\n",
      "|olivia.johnson@yahoo.com  |\n",
      "|william.taylor@hotmail.com|\n",
      "|john.wilson@yahoo.com     |\n",
      "|james.miller@gmail.com    |\n",
      "|sophia.moore@gmail.com    |\n",
      "|john.wilson@yahoo.com     |\n",
      "|sophia.wilson@yahoo.com   |\n",
      "|emma.jones@hotmail.com    |\n",
      "|emma.moore@gmail.com      |\n",
      "|james.smith@yahoo.com     |\n",
      "|mia.miller@hotmail.com    |\n",
      "|john.johnson@hotmail.com  |\n",
      "|james.smith@hotmail.com   |\n",
      "|emma.moore@gmail.com      |\n",
      "|emma.moore@hotmail.com    |\n",
      "|alexander.moore@gmail.com |\n",
      "+--------------------------+\n",
      "only showing top 20 rows\n",
      "\n"
     ]
    }
   ],
   "source": [
    "df_cleaned = input.withColumn(\"cleaned_email\", trim(regexp_replace(col(\"cusomter_email\"), r'[;*#()&}$\\[\\]\\{&\"\\'\\/>:\\%\\^|<\\\\]+.*$', '')))\n",
    "\n",
    "df_cleaned = df_cleaned.withColumn(\"customer_email\", regexp_replace(col(\"cleaned_email\"), r'\\.comm$', '.com'))\n",
    "df_cleaned.select(\"customer_email\").show(truncate=False)"
   ]
  },
  {
   "cell_type": "code",
   "execution_count": 8,
   "id": "9d1cccf7-c4d8-42f4-84b7-2d0de0131c7f",
   "metadata": {},
   "outputs": [],
   "source": [
    "df_cleaned = df_cleaned.withColumn(\"discount_perc\", when(col(\"offer_1\") == \"True\", 5). \n",
    "                                   when(col(\"offer_2\") == \"True\", 10).\n",
    "                                   when(col(\"offer_3\") == \"True\", 15).\n",
    "                                   when(col(\"offer_4\") == \"True\", 20).\n",
    "                                   when(col(\"offer_5\") == \"True\", 25).\n",
    "                                   otherwise(0))\n",
    "df_modified = df_cleaned.drop(\"cleaned_email\", \"cusomter_email\")"
   ]
  },
  {
   "cell_type": "code",
   "execution_count": 9,
   "id": "1cf3793a-b6b7-4840-8f1a-64067edc38c6",
   "metadata": {},
   "outputs": [],
   "source": [
    "df_modified.write.csv(f\"hdfs:///data/retail_silver/{date_str}/{hour_str}/sales_transactions_SS_cleaned_{date_str}_{hour_str}.csv\", header = 'true')"
   ]
  },
  {
   "cell_type": "code",
   "execution_count": 10,
   "id": "f1555dda-4fa4-48d7-b2f8-d49fad6bdcee",
   "metadata": {},
   "outputs": [
    {
     "data": {
      "text/html": [
       "<table border='1'>\n",
       "<tr><th>transaction_date</th><th>transaction_id</th><th>customer_id</th><th>customer_fname</th><th>cusomter_lname</th><th>sales_agent_id</th><th>branch_id</th><th>product_id</th><th>product_name</th><th>product_category</th><th>offer_1</th><th>offer_2</th><th>offer_3</th><th>offer_4</th><th>offer_5</th><th>units</th><th>unit_price</th><th>is_online</th><th>payment_method</th><th>shipping_address</th><th>customer_email</th><th>discount_perc</th></tr>\n",
       "<tr><td>2023-10-18</td><td>trx-237976222990</td><td>85517</td><td>Mia</td><td>Jones</td><td>6</td><td>1</td><td>10</td><td>Sandals</td><td>Footwear</td><td>null</td><td>null</td><td>null</td><td>null</td><td>True</td><td>1</td><td>39.99</td><td>no</td><td>Cash</td><td>null</td><td>mia.jones@outlook...</td><td>25</td></tr>\n",
       "<tr><td>2022-5-8</td><td>trx-891084445200</td><td>85497</td><td>Michael</td><td>Williams</td><td>9</td><td>2</td><td>27</td><td>Iron</td><td>Appliances</td><td>null</td><td>null</td><td>True</td><td>null</td><td>null</td><td>1</td><td>29.99</td><td>no</td><td>Credit Card</td><td>null</td><td>michael.williams@...</td><td>15</td></tr>\n",
       "<tr><td>2022-11-20</td><td>trx-911377237189</td><td>85485</td><td>James</td><td>Johnson</td><td>6</td><td>5</td><td>9</td><td>Boots</td><td>Footwear</td><td>null</td><td>null</td><td>null</td><td>null</td><td>null</td><td>8</td><td>129.99</td><td>no</td><td>Cash</td><td>null</td><td>james.johnson@hot...</td><td>0</td></tr>\n",
       "<tr><td>2023-5-18</td><td>trx-121263458494</td><td>85468</td><td>William</td><td>Moore</td><td>9</td><td>6</td><td>1</td><td>Laptop</td><td>Electronics</td><td>True</td><td>null</td><td>null</td><td>null</td><td>null</td><td>4</td><td>999.99</td><td>no</td><td>Credit Card</td><td>null</td><td>william.moore@out...</td><td>5</td></tr>\n",
       "<tr><td>2022-2-7</td><td>trx-617255070261</td><td>85535</td><td>Olivia</td><td>Johnson</td><td>4</td><td>4</td><td>30</td><td>Electric Kettle</td><td>Appliances</td><td>null</td><td>null</td><td>null</td><td>null</td><td>null</td><td>3</td><td>24.99</td><td>no</td><td>Cash</td><td>null</td><td>olivia.johnson@ya...</td><td>0</td></tr>\n",
       "<tr><td>2022-2-4</td><td>trx-110203063855</td><td>85545</td><td>William</td><td>Taylor</td><td>5</td><td>2</td><td>9</td><td>Boots</td><td>Footwear</td><td>null</td><td>null</td><td>null</td><td>null</td><td>null</td><td>7</td><td>129.99</td><td>no</td><td>Cash</td><td>null</td><td>william.taylor@ho...</td><td>0</td></tr>\n",
       "<tr><td>2022-9-8</td><td>trx-013322439991</td><td>85552</td><td>John</td><td>Wilson</td><td>8</td><td>5</td><td>29</td><td>Hair Straightener</td><td>Appliances</td><td>True</td><td>null</td><td>null</td><td>null</td><td>null</td><td>4</td><td>39.99</td><td>no</td><td>Credit Card</td><td>null</td><td>john.wilson@yahoo...</td><td>5</td></tr>\n",
       "<tr><td>2022-11-2</td><td>trx-443629484380</td><td>85515</td><td>James</td><td>Miller</td><td>6</td><td>5</td><td>28</td><td>Hair Dryer</td><td>Appliances</td><td>null</td><td>True</td><td>null</td><td>null</td><td>null</td><td>5</td><td>19.99</td><td>no</td><td>Credit Card</td><td>null</td><td>james.miller@gmai...</td><td>10</td></tr>\n",
       "<tr><td>2023-10-12</td><td>trx-922479550468</td><td>85494</td><td>Sophia</td><td>Moore</td><td>11</td><td>2</td><td>7</td><td>Dress</td><td>Clothing</td><td>null</td><td>null</td><td>True</td><td>null</td><td>null</td><td>5</td><td>59.99</td><td>no</td><td>Credit Card</td><td>null</td><td>sophia.moore@gmai...</td><td>15</td></tr>\n",
       "<tr><td>2022-11-5</td><td>trx-954632465852</td><td>85552</td><td>John</td><td>Wilson</td><td>2</td><td>2</td><td>24</td><td>Blender</td><td>Appliances</td><td>null</td><td>null</td><td>null</td><td>null</td><td>null</td><td>3</td><td>49.99</td><td>no</td><td>Credit Card</td><td>null</td><td>john.wilson@yahoo...</td><td>0</td></tr>\n",
       "<tr><td>2023-12-28</td><td>trx-759789154144</td><td>85467</td><td>Sophia</td><td>Wilson</td><td>2</td><td>6</td><td>1</td><td>Laptop</td><td>Electronics</td><td>null</td><td>null</td><td>null</td><td>null</td><td>null</td><td>4</td><td>999.99</td><td>no</td><td>Cash</td><td>null</td><td>sophia.wilson@yah...</td><td>0</td></tr>\n",
       "<tr><td>2023-12-7</td><td>trx-022416154142</td><td>85480</td><td>Emma</td><td>Jones</td><td>6</td><td>1</td><td>15</td><td>Hoodie</td><td>Clothing</td><td>True</td><td>null</td><td>null</td><td>null</td><td>null</td><td>5</td><td>29.99</td><td>no</td><td>Credit Card</td><td>null</td><td>emma.jones@hotmai...</td><td>5</td></tr>\n",
       "<tr><td>2023-11-4</td><td>trx-868990956760</td><td>85482</td><td>Emma</td><td>Moore</td><td>4</td><td>5</td><td>7</td><td>Dress</td><td>Clothing</td><td>null</td><td>null</td><td>null</td><td>null</td><td>True</td><td>8</td><td>59.99</td><td>no</td><td>Cash</td><td>null</td><td>emma.moore@gmail.com</td><td>25</td></tr>\n",
       "<tr><td>2023-12-1</td><td>trx-562802863935</td><td>85555</td><td>James</td><td>Smith</td><td>5</td><td>1</td><td>24</td><td>Blender</td><td>Appliances</td><td>null</td><td>null</td><td>null</td><td>True</td><td>null</td><td>7</td><td>49.99</td><td>no</td><td>Cash</td><td>null</td><td>james.smith@yahoo...</td><td>20</td></tr>\n",
       "<tr><td>2022-3-12</td><td>trx-804928176409</td><td>85516</td><td>Mia</td><td>Miller</td><td>11</td><td>3</td><td>9</td><td>Boots</td><td>Footwear</td><td>null</td><td>null</td><td>null</td><td>null</td><td>null</td><td>10</td><td>129.99</td><td>no</td><td>Cash</td><td>null</td><td>mia.miller@hotmai...</td><td>0</td></tr>\n",
       "<tr><td>2023-4-12</td><td>trx-805987890738</td><td>85478</td><td>John</td><td>Johnson</td><td>7</td><td>6</td><td>28</td><td>Hair Dryer</td><td>Appliances</td><td>True</td><td>null</td><td>null</td><td>null</td><td>null</td><td>7</td><td>19.99</td><td>no</td><td>Credit Card</td><td>null</td><td>john.johnson@hotm...</td><td>5</td></tr>\n",
       "<tr><td>2022-7-28</td><td>trx-142590798830</td><td>85469</td><td>James</td><td>Smith</td><td>4</td><td>6</td><td>17</td><td>Blouse</td><td>Clothing</td><td>null</td><td>True</td><td>null</td><td>null</td><td>null</td><td>10</td><td>29.99</td><td>no</td><td>Credit Card</td><td>null</td><td>james.smith@hotma...</td><td>10</td></tr>\n",
       "<tr><td>2023-8-19</td><td>trx-299887764878</td><td>85482</td><td>Emma</td><td>Moore</td><td>7</td><td>6</td><td>5</td><td>T-Shirt</td><td>Clothing</td><td>null</td><td>null</td><td>null</td><td>null</td><td>null</td><td>5</td><td>19.99</td><td>no</td><td>Cash</td><td>null</td><td>emma.moore@gmail.com</td><td>0</td></tr>\n",
       "<tr><td>2022-3-19</td><td>trx-521009740073</td><td>85558</td><td>Emma</td><td>Moore</td><td>3</td><td>1</td><td>7</td><td>Dress</td><td>Clothing</td><td>null</td><td>True</td><td>null</td><td>null</td><td>null</td><td>7</td><td>59.99</td><td>no</td><td>Credit Card</td><td>null</td><td>emma.moore@hotmai...</td><td>10</td></tr>\n",
       "<tr><td>2022-2-10</td><td>trx-417687722478</td><td>85473</td><td>Alexander</td><td>Moore</td><td>3</td><td>1</td><td>27</td><td>Iron</td><td>Appliances</td><td>null</td><td>null</td><td>null</td><td>null</td><td>null</td><td>10</td><td>29.99</td><td>no</td><td>Credit Card</td><td>null</td><td>alexander.moore@g...</td><td>0</td></tr>\n",
       "</table>\n",
       "only showing top 20 rows\n"
      ],
      "text/plain": [
       "+----------------+----------------+-----------+--------------+--------------+--------------+---------+----------+-----------------+----------------+-------+-------+-------+-------+-------+-----+----------+---------+--------------+----------------+--------------------+-------------+\n",
       "|transaction_date|  transaction_id|customer_id|customer_fname|cusomter_lname|sales_agent_id|branch_id|product_id|     product_name|product_category|offer_1|offer_2|offer_3|offer_4|offer_5|units|unit_price|is_online|payment_method|shipping_address|      customer_email|discount_perc|\n",
       "+----------------+----------------+-----------+--------------+--------------+--------------+---------+----------+-----------------+----------------+-------+-------+-------+-------+-------+-----+----------+---------+--------------+----------------+--------------------+-------------+\n",
       "|      2023-10-18|trx-237976222990|      85517|           Mia|         Jones|             6|        1|        10|          Sandals|        Footwear|   null|   null|   null|   null|   True|    1|     39.99|       no|          Cash|            null|mia.jones@outlook...|           25|\n",
       "|        2022-5-8|trx-891084445200|      85497|       Michael|      Williams|             9|        2|        27|             Iron|      Appliances|   null|   null|   True|   null|   null|    1|     29.99|       no|   Credit Card|            null|michael.williams@...|           15|\n",
       "|      2022-11-20|trx-911377237189|      85485|         James|       Johnson|             6|        5|         9|            Boots|        Footwear|   null|   null|   null|   null|   null|    8|    129.99|       no|          Cash|            null|james.johnson@hot...|            0|\n",
       "|       2023-5-18|trx-121263458494|      85468|       William|         Moore|             9|        6|         1|           Laptop|     Electronics|   True|   null|   null|   null|   null|    4|    999.99|       no|   Credit Card|            null|william.moore@out...|            5|\n",
       "|        2022-2-7|trx-617255070261|      85535|        Olivia|       Johnson|             4|        4|        30|  Electric Kettle|      Appliances|   null|   null|   null|   null|   null|    3|     24.99|       no|          Cash|            null|olivia.johnson@ya...|            0|\n",
       "|        2022-2-4|trx-110203063855|      85545|       William|        Taylor|             5|        2|         9|            Boots|        Footwear|   null|   null|   null|   null|   null|    7|    129.99|       no|          Cash|            null|william.taylor@ho...|            0|\n",
       "|        2022-9-8|trx-013322439991|      85552|          John|        Wilson|             8|        5|        29|Hair Straightener|      Appliances|   True|   null|   null|   null|   null|    4|     39.99|       no|   Credit Card|            null|john.wilson@yahoo...|            5|\n",
       "|       2022-11-2|trx-443629484380|      85515|         James|        Miller|             6|        5|        28|       Hair Dryer|      Appliances|   null|   True|   null|   null|   null|    5|     19.99|       no|   Credit Card|            null|james.miller@gmai...|           10|\n",
       "|      2023-10-12|trx-922479550468|      85494|        Sophia|         Moore|            11|        2|         7|            Dress|        Clothing|   null|   null|   True|   null|   null|    5|     59.99|       no|   Credit Card|            null|sophia.moore@gmai...|           15|\n",
       "|       2022-11-5|trx-954632465852|      85552|          John|        Wilson|             2|        2|        24|          Blender|      Appliances|   null|   null|   null|   null|   null|    3|     49.99|       no|   Credit Card|            null|john.wilson@yahoo...|            0|\n",
       "|      2023-12-28|trx-759789154144|      85467|        Sophia|        Wilson|             2|        6|         1|           Laptop|     Electronics|   null|   null|   null|   null|   null|    4|    999.99|       no|          Cash|            null|sophia.wilson@yah...|            0|\n",
       "|       2023-12-7|trx-022416154142|      85480|          Emma|         Jones|             6|        1|        15|           Hoodie|        Clothing|   True|   null|   null|   null|   null|    5|     29.99|       no|   Credit Card|            null|emma.jones@hotmai...|            5|\n",
       "|       2023-11-4|trx-868990956760|      85482|          Emma|         Moore|             4|        5|         7|            Dress|        Clothing|   null|   null|   null|   null|   True|    8|     59.99|       no|          Cash|            null|emma.moore@gmail.com|           25|\n",
       "|       2023-12-1|trx-562802863935|      85555|         James|         Smith|             5|        1|        24|          Blender|      Appliances|   null|   null|   null|   True|   null|    7|     49.99|       no|          Cash|            null|james.smith@yahoo...|           20|\n",
       "|       2022-3-12|trx-804928176409|      85516|           Mia|        Miller|            11|        3|         9|            Boots|        Footwear|   null|   null|   null|   null|   null|   10|    129.99|       no|          Cash|            null|mia.miller@hotmai...|            0|\n",
       "|       2023-4-12|trx-805987890738|      85478|          John|       Johnson|             7|        6|        28|       Hair Dryer|      Appliances|   True|   null|   null|   null|   null|    7|     19.99|       no|   Credit Card|            null|john.johnson@hotm...|            5|\n",
       "|       2022-7-28|trx-142590798830|      85469|         James|         Smith|             4|        6|        17|           Blouse|        Clothing|   null|   True|   null|   null|   null|   10|     29.99|       no|   Credit Card|            null|james.smith@hotma...|           10|\n",
       "|       2023-8-19|trx-299887764878|      85482|          Emma|         Moore|             7|        6|         5|          T-Shirt|        Clothing|   null|   null|   null|   null|   null|    5|     19.99|       no|          Cash|            null|emma.moore@gmail.com|            0|\n",
       "|       2022-3-19|trx-521009740073|      85558|          Emma|         Moore|             3|        1|         7|            Dress|        Clothing|   null|   True|   null|   null|   null|    7|     59.99|       no|   Credit Card|            null|emma.moore@hotmai...|           10|\n",
       "|       2022-2-10|trx-417687722478|      85473|     Alexander|         Moore|             3|        1|        27|             Iron|      Appliances|   null|   null|   null|   null|   null|   10|     29.99|       no|   Credit Card|            null|alexander.moore@g...|            0|\n",
       "+----------------+----------------+-----------+--------------+--------------+--------------+---------+----------+-----------------+----------------+-------+-------+-------+-------+-------+-----+----------+---------+--------------+----------------+--------------------+-------------+\n",
       "only showing top 20 rows"
      ]
     },
     "execution_count": 10,
     "metadata": {},
     "output_type": "execute_result"
    }
   ],
   "source": [
    "df_modified"
   ]
  },
  {
   "cell_type": "code",
   "execution_count": 11,
   "id": "87ee3534-ccc7-4115-941a-142e8c4fde35",
   "metadata": {},
   "outputs": [],
   "source": [
    "spark.stop()"
   ]
  },
  {
   "cell_type": "code",
   "execution_count": null,
   "id": "287cf214-396c-4c06-b697-a3a14703b41c",
   "metadata": {},
   "outputs": [],
   "source": []
  }
 ],
 "metadata": {
  "kernelspec": {
   "display_name": "Pyspark 2",
   "language": "python",
   "name": "pyspark2"
  },
  "language_info": {
   "codemirror_mode": {
    "name": "ipython",
    "version": 3
   },
   "file_extension": ".py",
   "mimetype": "text/x-python",
   "name": "python",
   "nbconvert_exporter": "python",
   "pygments_lexer": "ipython3",
   "version": "3.6.9"
  }
 },
 "nbformat": 4,
 "nbformat_minor": 5
}
