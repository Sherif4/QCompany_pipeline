{
 "cells": [
  {
   "cell_type": "code",
   "execution_count": 1,
   "id": "a2f66ff8-3c80-4614-b50b-f158fdc99ebe",
   "metadata": {},
   "outputs": [],
   "source": [
    "import re\n",
    "from pyspark.sql import SparkSession\n",
    "from functools import reduce\n",
    "from pyspark.sql.functions import col, regexp_replace, trim, when\n",
    "from pyspark.serializers import PickleSerializer, AutoBatchedSerializer\n",
    "from datetime import datetime\n",
    "import subprocess\n",
    "from py4j.java_gateway import java_import\n",
    "import os\n"
   ]
  },
  {
   "cell_type": "code",
   "execution_count": 2,
   "id": "6a0869a3-007a-4c17-87ad-249124794144",
   "metadata": {},
   "outputs": [],
   "source": [
    "spark = SparkSession\\\n",
    "    .builder\\\n",
    "    .master(\"local[4]\")\\\n",
    "    .appName(\"sales_transactions\")\\\n",
    "    .config(\"spark.eventLog.logBlockUpdates.enabled\", True)\\\n",
    "    .getOrCreate()\n",
    "\n",
    "sc = spark.sparkContext"
   ]
  },
  {
   "cell_type": "code",
   "execution_count": 3,
   "id": "af6c6bee-184c-4f08-92a9-35ce94ce5ae8",
   "metadata": {},
   "outputs": [],
   "source": [
    "now = datetime.now()\n",
    "date_str = now.strftime(\"%Y%m%d\")\n",
    "hour_str = now.strftime(\"%H\")"
   ]
  },
  {
   "cell_type": "code",
   "execution_count": 4,
   "id": "4c80bfb5-9dce-43f2-b7a8-8c63c944e358",
   "metadata": {},
   "outputs": [
    {
     "name": "stdout",
     "output_type": "stream",
     "text": [
      "+----------------+----------------+-----------+--------------+--------------+--------------------+--------------+---------+----------+------------+----------------+-------+-------+-------+-------+-------+-----+----------+---------+--------------+----------------+----+------+\n",
      "|transaction_date|  transaction_id|customer_id|customer_fname|cusomter_lname|      cusomter_email|sales_agent_id|branch_id|product_id|product_name|product_category|offer_1|offer_2|offer_3|offer_4|offer_5|units|unit_price|is_online|payment_method|shipping_address|logs|source|\n",
      "+----------------+----------------+-----------+--------------+--------------+--------------------+--------------+---------+----------+------------+----------------+-------+-------+-------+-------+-------+-----+----------+---------+--------------+----------------+----+------+\n",
      "|       2022-7-19|trx-878108770002|      85513|     Alexander|       Johnson|alexander.johnson...|          10.0|      6.0|        27|        Iron|      Appliances|   null|   null|   null|   null|   null|    7|     29.99|       no|          Cash|            null|null|  null|\n",
      "|        2023-8-6|trx-349443438637|      85510|           Ava|         Smith|ava.smith@gmail.c...|           2.0|      6.0|        28|  Hair Dryer|      Appliances|   null|   true|   null|   null|   null|   10|     19.99|       no|          Cash|            null|null|  null|\n",
      "|      2022-12-28|trx-045891300294|      85553|           Mia|         Brown|mia.brown@hotmail...|           6.0|      4.0|        13|     Printer|     Electronics|   null|   null|   true|   null|   null|    2|    149.99|       no|   Credit Card|            null|null|  null|\n",
      "|       2023-6-28|trx-756996252944|      85520|        Olivia|        Taylor|olivia.taylor@out...|           3.0|      2.0|        12|     Monitor|     Electronics|   null|   null|   null|   null|   null|    6|    299.99|       no|   Credit Card|            null|null|  null|\n",
      "|        2023-9-5|trx-491216466700|      85539|          John|         Moore|john.moore@gmail....|           8.0|      3.0|         5|     T-Shirt|        Clothing|   true|   null|   null|   null|   null|    1|     19.99|       no|   Credit Card|            null|null|  null|\n",
      "+----------------+----------------+-----------+--------------+--------------+--------------------+--------------+---------+----------+------------+----------------+-------+-------+-------+-------+-------+-----+----------+---------+--------------+----------------+----+------+\n",
      "only showing top 5 rows\n",
      "\n"
     ]
    }
   ],
   "source": [
    "input = spark.read.parquet(f\"hdfs:///data/retail_bronze/{date_str}/{hour_str}/sales_transactions_SS_raw_{date_str}_{hour_str}.parquet\")\n",
    "input.show(5)"
   ]
  },
  {
   "cell_type": "code",
   "execution_count": 5,
   "id": "652fe7bd-3483-400e-b174-063205a74b40",
   "metadata": {},
   "outputs": [
    {
     "name": "stdout",
     "output_type": "stream",
     "text": [
      "+---------------------------+\n",
      "|customer_email             |\n",
      "+---------------------------+\n",
      "|alexander.johnson@yahoo.com|\n",
      "|ava.smith@gmail.com        |\n",
      "|mia.brown@hotmail.com      |\n",
      "|olivia.taylor@outlook.com  |\n",
      "|john.moore@gmail.com       |\n",
      "|john.brown@hotmail.com     |\n",
      "|emma.smith@gmail.com       |\n",
      "|emma.miller@outlook.com    |\n",
      "|mia.williams@yahoo.com     |\n",
      "|william.brown@hotmail.com  |\n",
      "|olivia.smith@yahoo.com     |\n",
      "|sophia.davis@yahoo.com     |\n",
      "|michael.johnson@hotmail.com|\n",
      "|emma.davis@gmail.com       |\n",
      "|william.wilson@hotmail.com |\n",
      "|john.miller@hotmail.com    |\n",
      "|william.moore@outlook.com  |\n",
      "|emma.brown@gmail.com       |\n",
      "|mia.davis@outlook.com      |\n",
      "|william.moore@gmail.com    |\n",
      "+---------------------------+\n",
      "only showing top 20 rows\n",
      "\n"
     ]
    }
   ],
   "source": [
    "df_cleaned = input.withColumn(\"cleaned_email\", trim(regexp_replace(col(\"cusomter_email\"), r'[;*#()&}$\\[\\]\\{&\"\\'\\/>:\\%\\^|<\\\\]+.*$', '')))\n",
    "\n",
    "df_cleaned = df_cleaned.withColumn(\"customer_email\", regexp_replace(col(\"cleaned_email\"), r'\\.comm$', '.com'))\n",
    "df_cleaned.select(\"customer_email\").show(truncate=False)"
   ]
  },
  {
   "cell_type": "code",
   "execution_count": 6,
   "id": "9d1cccf7-c4d8-42f4-84b7-2d0de0131c7f",
   "metadata": {},
   "outputs": [],
   "source": [
    "df_cleaned = df_cleaned.withColumn(\"discount_perc\", when(col(\"offer_1\") == \"True\", 5). \n",
    "                                   when(col(\"offer_2\") == \"True\", 10).\n",
    "                                   when(col(\"offer_3\") == \"True\", 15).\n",
    "                                   when(col(\"offer_4\") == \"True\", 20).\n",
    "                                   when(col(\"offer_5\") == \"True\", 25).\n",
    "                                   otherwise(0))\n",
    "df_modified = df_cleaned.drop(\"cleaned_email\", \"cusomter_email\")\n",
    "df_modified = df_modified.withColumnRenamed(\"cusomter_lname\", \"customer_lname\")"
   ]
  },
  {
   "cell_type": "code",
   "execution_count": 7,
   "id": "8ea76738-08e0-4bfc-934b-482c0d3a8ae7",
   "metadata": {},
   "outputs": [],
   "source": [
    "df_modified.repartition(1).write.mode('overwrite').parquet(f\"hdfs:///data/retail_silver/{date_str}/{hour_str}\")"
   ]
  },
  {
   "cell_type": "code",
   "execution_count": 8,
   "id": "8d780607-9d1f-40d4-9751-20a03171ac3a",
   "metadata": {},
   "outputs": [],
   "source": [
    "list_files_process = subprocess.run([\"hadoop\", \"fs\", \"-ls\", \"-C\", f\"hdfs:///data/retail_silver/{date_str}/{hour_str}/\"], stdout=subprocess.PIPE, stderr=subprocess.PIPE)                        "
   ]
  },
  {
   "cell_type": "code",
   "execution_count": 9,
   "id": "092156c7-6a93-4ac8-8d65-c62b4088da7a",
   "metadata": {},
   "outputs": [
    {
     "name": "stdout",
     "output_type": "stream",
     "text": [
      "hdfs:///data/retail_silver/20240712/08/part-00000-3ad39dc3-d81b-4df8-a1ab-3cf256199969-c000.snappy.parquet\n"
     ]
    }
   ],
   "source": [
    "if list_files_process.returncode != 0:\n",
    "        print(f\"Error listing files in hdfs:///data/retail_silver/{date_str}/{hour_str}: {list_files_process.stderr.decode()}\")\n",
    "else:\n",
    "    stdout_str = list_files_process.stdout.decode()\n",
    "    file_list = stdout_str.splitlines()\n",
    "    file_to_rename = file_list[1]\n",
    "    print(file_list[1])\n",
    "    new_filename =f\"hdfs:///data/retail_silver/{date_str}/{hour_str}/sales_transactions_SS_cleaned_{date_str}_{hour_str}.parquet\"\n",
    "    subprocess.run([\"hadoop\", \"fs\", \"-mv\", file_to_rename, new_filename])\n"
   ]
  },
  {
   "cell_type": "code",
   "execution_count": 10,
   "id": "f1555dda-4fa4-48d7-b2f8-d49fad6bdcee",
   "metadata": {},
   "outputs": [
    {
     "data": {
      "text/html": [
       "<table border='1'>\n",
       "<tr><th>transaction_date</th><th>transaction_id</th><th>customer_id</th><th>customer_fname</th><th>customer_lname</th><th>sales_agent_id</th><th>branch_id</th><th>product_id</th><th>product_name</th><th>product_category</th><th>offer_1</th><th>offer_2</th><th>offer_3</th><th>offer_4</th><th>offer_5</th><th>units</th><th>unit_price</th><th>is_online</th><th>payment_method</th><th>shipping_address</th><th>logs</th><th>source</th><th>customer_email</th><th>discount_perc</th></tr>\n",
       "<tr><td>2022-7-19</td><td>trx-878108770002</td><td>85513</td><td>Alexander</td><td>Johnson</td><td>10.0</td><td>6.0</td><td>27</td><td>Iron</td><td>Appliances</td><td>null</td><td>null</td><td>null</td><td>null</td><td>null</td><td>7</td><td>29.99</td><td>no</td><td>Cash</td><td>null</td><td>null</td><td>null</td><td>alexander.johnson...</td><td>0</td></tr>\n",
       "<tr><td>2023-8-6</td><td>trx-349443438637</td><td>85510</td><td>Ava</td><td>Smith</td><td>2.0</td><td>6.0</td><td>28</td><td>Hair Dryer</td><td>Appliances</td><td>null</td><td>true</td><td>null</td><td>null</td><td>null</td><td>10</td><td>19.99</td><td>no</td><td>Cash</td><td>null</td><td>null</td><td>null</td><td>ava.smith@gmail.com</td><td>10</td></tr>\n",
       "<tr><td>2022-12-28</td><td>trx-045891300294</td><td>85553</td><td>Mia</td><td>Brown</td><td>6.0</td><td>4.0</td><td>13</td><td>Printer</td><td>Electronics</td><td>null</td><td>null</td><td>true</td><td>null</td><td>null</td><td>2</td><td>149.99</td><td>no</td><td>Credit Card</td><td>null</td><td>null</td><td>null</td><td>mia.brown@hotmail...</td><td>15</td></tr>\n",
       "<tr><td>2023-6-28</td><td>trx-756996252944</td><td>85520</td><td>Olivia</td><td>Taylor</td><td>3.0</td><td>2.0</td><td>12</td><td>Monitor</td><td>Electronics</td><td>null</td><td>null</td><td>null</td><td>null</td><td>null</td><td>6</td><td>299.99</td><td>no</td><td>Credit Card</td><td>null</td><td>null</td><td>null</td><td>olivia.taylor@out...</td><td>0</td></tr>\n",
       "<tr><td>2023-9-5</td><td>trx-491216466700</td><td>85539</td><td>John</td><td>Moore</td><td>8.0</td><td>3.0</td><td>5</td><td>T-Shirt</td><td>Clothing</td><td>true</td><td>null</td><td>null</td><td>null</td><td>null</td><td>1</td><td>19.99</td><td>no</td><td>Credit Card</td><td>null</td><td>null</td><td>null</td><td>john.moore@gmail.com</td><td>5</td></tr>\n",
       "<tr><td>2023-3-16</td><td>trx-274239612034</td><td>85517</td><td>John</td><td>Brown</td><td>7.0</td><td>4.0</td><td>15</td><td>Hoodie</td><td>Clothing</td><td>null</td><td>null</td><td>null</td><td>true</td><td>null</td><td>3</td><td>29.99</td><td>no</td><td>Credit Card</td><td>null</td><td>null</td><td>null</td><td>john.brown@hotmai...</td><td>20</td></tr>\n",
       "<tr><td>2022-9-15</td><td>trx-054194579945</td><td>85496</td><td>Emma</td><td>Smith</td><td>11.0</td><td>1.0</td><td>19</td><td>Sandals</td><td>Footwear</td><td>null</td><td>null</td><td>null</td><td>null</td><td>null</td><td>7</td><td>29.99</td><td>no</td><td>Credit Card</td><td>null</td><td>null</td><td>null</td><td>emma.smith@gmail.com</td><td>0</td></tr>\n",
       "<tr><td>2022-9-24</td><td>trx-217671445546</td><td>85469</td><td>Emma</td><td>Miller</td><td>6.0</td><td>3.0</td><td>13</td><td>Printer</td><td>Electronics</td><td>null</td><td>null</td><td>null</td><td>null</td><td>null</td><td>3</td><td>149.99</td><td>no</td><td>Cash</td><td>null</td><td>null</td><td>null</td><td>emma.miller@outlo...</td><td>0</td></tr>\n",
       "<tr><td>2022-9-8</td><td>trx-765298457963</td><td>85529</td><td>Mia</td><td>Williams</td><td>10.0</td><td>3.0</td><td>23</td><td>Toaster</td><td>Appliances</td><td>null</td><td>null</td><td>null</td><td>null</td><td>null</td><td>9</td><td>39.99</td><td>no</td><td>Credit Card</td><td>null</td><td>null</td><td>null</td><td>mia.williams@yaho...</td><td>0</td></tr>\n",
       "<tr><td>2022-12-9</td><td>trx-469050698996</td><td>85523</td><td>William</td><td>Brown</td><td>7.0</td><td>1.0</td><td>25</td><td>Washing Machine</td><td>Appliances</td><td>null</td><td>null</td><td>null</td><td>null</td><td>null</td><td>1</td><td>499.99</td><td>no</td><td>Cash</td><td>null</td><td>null</td><td>null</td><td>william.brown@hot...</td><td>0</td></tr>\n",
       "<tr><td>2023-4-27</td><td>trx-809046673246</td><td>85471</td><td>Olivia</td><td>Smith</td><td>7.0</td><td>2.0</td><td>6</td><td>Jeans</td><td>Clothing</td><td>null</td><td>null</td><td>null</td><td>null</td><td>null</td><td>1</td><td>49.99</td><td>no</td><td>Cash</td><td>null</td><td>null</td><td>null</td><td>olivia.smith@yaho...</td><td>0</td></tr>\n",
       "<tr><td>2022-4-17</td><td>trx-718592019332</td><td>85550</td><td>Sophia</td><td>Davis</td><td>11.0</td><td>6.0</td><td>26</td><td>Vacuum Cleaner</td><td>Appliances</td><td>null</td><td>null</td><td>null</td><td>null</td><td>null</td><td>5</td><td>199.99</td><td>no</td><td>Credit Card</td><td>null</td><td>null</td><td>null</td><td>sophia.davis@yaho...</td><td>0</td></tr>\n",
       "<tr><td>2022-6-11</td><td>trx-787616785970</td><td>85499</td><td>Michael</td><td>Johnson</td><td>7.0</td><td>5.0</td><td>6</td><td>Jeans</td><td>Clothing</td><td>null</td><td>null</td><td>null</td><td>null</td><td>null</td><td>5</td><td>49.99</td><td>no</td><td>Credit Card</td><td>null</td><td>null</td><td>null</td><td>michael.johnson@h...</td><td>0</td></tr>\n",
       "<tr><td>2023-3-13</td><td>trx-323623959597</td><td>85505</td><td>Emma</td><td>Davis</td><td>10.0</td><td>6.0</td><td>4</td><td>Headphones</td><td>Electronics</td><td>null</td><td>null</td><td>null</td><td>true</td><td>null</td><td>7</td><td>99.99</td><td>no</td><td>Credit Card</td><td>null</td><td>null</td><td>null</td><td>emma.davis@gmail.com</td><td>20</td></tr>\n",
       "<tr><td>2023-1-11</td><td>trx-596764527661</td><td>85554</td><td>William</td><td>Wilson</td><td>10.0</td><td>5.0</td><td>8</td><td>Sneakers</td><td>Footwear</td><td>null</td><td>null</td><td>true</td><td>null</td><td>null</td><td>10</td><td>79.99</td><td>no</td><td>Cash</td><td>null</td><td>null</td><td>null</td><td>william.wilson@ho...</td><td>15</td></tr>\n",
       "<tr><td>2023-7-6</td><td>trx-889004599286</td><td>85487</td><td>John</td><td>Miller</td><td>9.0</td><td>5.0</td><td>16</td><td>Skirt</td><td>Clothing</td><td>null</td><td>null</td><td>null</td><td>null</td><td>null</td><td>2</td><td>39.99</td><td>no</td><td>Credit Card</td><td>null</td><td>null</td><td>null</td><td>john.miller@hotma...</td><td>0</td></tr>\n",
       "<tr><td>2022-9-18</td><td>trx-335344321669</td><td>85546</td><td>William</td><td>Moore</td><td>10.0</td><td>4.0</td><td>5</td><td>T-Shirt</td><td>Clothing</td><td>null</td><td>null</td><td>null</td><td>null</td><td>null</td><td>8</td><td>19.99</td><td>no</td><td>Cash</td><td>null</td><td>null</td><td>null</td><td>william.moore@out...</td><td>0</td></tr>\n",
       "<tr><td>2022-11-7</td><td>trx-578892449561</td><td>85497</td><td>Emma</td><td>Brown</td><td>1.0</td><td>4.0</td><td>28</td><td>Hair Dryer</td><td>Appliances</td><td>null</td><td>null</td><td>null</td><td>true</td><td>null</td><td>5</td><td>19.99</td><td>no</td><td>Cash</td><td>null</td><td>null</td><td>null</td><td>emma.brown@gmail.com</td><td>20</td></tr>\n",
       "<tr><td>2023-8-1</td><td>trx-187203915482</td><td>85462</td><td>Mia</td><td>Davis</td><td>3.0</td><td>1.0</td><td>4</td><td>Headphones</td><td>Electronics</td><td>null</td><td>null</td><td>true</td><td>null</td><td>null</td><td>4</td><td>99.99</td><td>no</td><td>Credit Card</td><td>null</td><td>null</td><td>null</td><td>mia.davis@outlook...</td><td>15</td></tr>\n",
       "<tr><td>2022-9-1</td><td>trx-358648761834</td><td>85495</td><td>William</td><td>Moore</td><td>6.0</td><td>5.0</td><td>25</td><td>Washing Machine</td><td>Appliances</td><td>null</td><td>null</td><td>null</td><td>null</td><td>null</td><td>4</td><td>499.99</td><td>no</td><td>Cash</td><td>null</td><td>null</td><td>null</td><td>william.moore@gma...</td><td>0</td></tr>\n",
       "</table>\n",
       "only showing top 20 rows\n"
      ],
      "text/plain": [
       "+----------------+----------------+-----------+--------------+--------------+--------------+---------+----------+---------------+----------------+-------+-------+-------+-------+-------+-----+----------+---------+--------------+----------------+----+------+--------------------+-------------+\n",
       "|transaction_date|  transaction_id|customer_id|customer_fname|customer_lname|sales_agent_id|branch_id|product_id|   product_name|product_category|offer_1|offer_2|offer_3|offer_4|offer_5|units|unit_price|is_online|payment_method|shipping_address|logs|source|      customer_email|discount_perc|\n",
       "+----------------+----------------+-----------+--------------+--------------+--------------+---------+----------+---------------+----------------+-------+-------+-------+-------+-------+-----+----------+---------+--------------+----------------+----+------+--------------------+-------------+\n",
       "|       2022-7-19|trx-878108770002|      85513|     Alexander|       Johnson|          10.0|      6.0|        27|           Iron|      Appliances|   null|   null|   null|   null|   null|    7|     29.99|       no|          Cash|            null|null|  null|alexander.johnson...|            0|\n",
       "|        2023-8-6|trx-349443438637|      85510|           Ava|         Smith|           2.0|      6.0|        28|     Hair Dryer|      Appliances|   null|   true|   null|   null|   null|   10|     19.99|       no|          Cash|            null|null|  null| ava.smith@gmail.com|           10|\n",
       "|      2022-12-28|trx-045891300294|      85553|           Mia|         Brown|           6.0|      4.0|        13|        Printer|     Electronics|   null|   null|   true|   null|   null|    2|    149.99|       no|   Credit Card|            null|null|  null|mia.brown@hotmail...|           15|\n",
       "|       2023-6-28|trx-756996252944|      85520|        Olivia|        Taylor|           3.0|      2.0|        12|        Monitor|     Electronics|   null|   null|   null|   null|   null|    6|    299.99|       no|   Credit Card|            null|null|  null|olivia.taylor@out...|            0|\n",
       "|        2023-9-5|trx-491216466700|      85539|          John|         Moore|           8.0|      3.0|         5|        T-Shirt|        Clothing|   true|   null|   null|   null|   null|    1|     19.99|       no|   Credit Card|            null|null|  null|john.moore@gmail.com|            5|\n",
       "|       2023-3-16|trx-274239612034|      85517|          John|         Brown|           7.0|      4.0|        15|         Hoodie|        Clothing|   null|   null|   null|   true|   null|    3|     29.99|       no|   Credit Card|            null|null|  null|john.brown@hotmai...|           20|\n",
       "|       2022-9-15|trx-054194579945|      85496|          Emma|         Smith|          11.0|      1.0|        19|        Sandals|        Footwear|   null|   null|   null|   null|   null|    7|     29.99|       no|   Credit Card|            null|null|  null|emma.smith@gmail.com|            0|\n",
       "|       2022-9-24|trx-217671445546|      85469|          Emma|        Miller|           6.0|      3.0|        13|        Printer|     Electronics|   null|   null|   null|   null|   null|    3|    149.99|       no|          Cash|            null|null|  null|emma.miller@outlo...|            0|\n",
       "|        2022-9-8|trx-765298457963|      85529|           Mia|      Williams|          10.0|      3.0|        23|        Toaster|      Appliances|   null|   null|   null|   null|   null|    9|     39.99|       no|   Credit Card|            null|null|  null|mia.williams@yaho...|            0|\n",
       "|       2022-12-9|trx-469050698996|      85523|       William|         Brown|           7.0|      1.0|        25|Washing Machine|      Appliances|   null|   null|   null|   null|   null|    1|    499.99|       no|          Cash|            null|null|  null|william.brown@hot...|            0|\n",
       "|       2023-4-27|trx-809046673246|      85471|        Olivia|         Smith|           7.0|      2.0|         6|          Jeans|        Clothing|   null|   null|   null|   null|   null|    1|     49.99|       no|          Cash|            null|null|  null|olivia.smith@yaho...|            0|\n",
       "|       2022-4-17|trx-718592019332|      85550|        Sophia|         Davis|          11.0|      6.0|        26| Vacuum Cleaner|      Appliances|   null|   null|   null|   null|   null|    5|    199.99|       no|   Credit Card|            null|null|  null|sophia.davis@yaho...|            0|\n",
       "|       2022-6-11|trx-787616785970|      85499|       Michael|       Johnson|           7.0|      5.0|         6|          Jeans|        Clothing|   null|   null|   null|   null|   null|    5|     49.99|       no|   Credit Card|            null|null|  null|michael.johnson@h...|            0|\n",
       "|       2023-3-13|trx-323623959597|      85505|          Emma|         Davis|          10.0|      6.0|         4|     Headphones|     Electronics|   null|   null|   null|   true|   null|    7|     99.99|       no|   Credit Card|            null|null|  null|emma.davis@gmail.com|           20|\n",
       "|       2023-1-11|trx-596764527661|      85554|       William|        Wilson|          10.0|      5.0|         8|       Sneakers|        Footwear|   null|   null|   true|   null|   null|   10|     79.99|       no|          Cash|            null|null|  null|william.wilson@ho...|           15|\n",
       "|        2023-7-6|trx-889004599286|      85487|          John|        Miller|           9.0|      5.0|        16|          Skirt|        Clothing|   null|   null|   null|   null|   null|    2|     39.99|       no|   Credit Card|            null|null|  null|john.miller@hotma...|            0|\n",
       "|       2022-9-18|trx-335344321669|      85546|       William|         Moore|          10.0|      4.0|         5|        T-Shirt|        Clothing|   null|   null|   null|   null|   null|    8|     19.99|       no|          Cash|            null|null|  null|william.moore@out...|            0|\n",
       "|       2022-11-7|trx-578892449561|      85497|          Emma|         Brown|           1.0|      4.0|        28|     Hair Dryer|      Appliances|   null|   null|   null|   true|   null|    5|     19.99|       no|          Cash|            null|null|  null|emma.brown@gmail.com|           20|\n",
       "|        2023-8-1|trx-187203915482|      85462|           Mia|         Davis|           3.0|      1.0|         4|     Headphones|     Electronics|   null|   null|   true|   null|   null|    4|     99.99|       no|   Credit Card|            null|null|  null|mia.davis@outlook...|           15|\n",
       "|        2022-9-1|trx-358648761834|      85495|       William|         Moore|           6.0|      5.0|        25|Washing Machine|      Appliances|   null|   null|   null|   null|   null|    4|    499.99|       no|          Cash|            null|null|  null|william.moore@gma...|            0|\n",
       "+----------------+----------------+-----------+--------------+--------------+--------------+---------+----------+---------------+----------------+-------+-------+-------+-------+-------+-----+----------+---------+--------------+----------------+----+------+--------------------+-------------+\n",
       "only showing top 20 rows"
      ]
     },
     "execution_count": 10,
     "metadata": {},
     "output_type": "execute_result"
    }
   ],
   "source": [
    "df_modified"
   ]
  },
  {
   "cell_type": "code",
   "execution_count": 11,
   "id": "87ee3534-ccc7-4115-941a-142e8c4fde35",
   "metadata": {},
   "outputs": [],
   "source": [
    "spark.stop()"
   ]
  },
  {
   "cell_type": "code",
   "execution_count": null,
   "id": "287cf214-396c-4c06-b697-a3a14703b41c",
   "metadata": {},
   "outputs": [],
   "source": []
  }
 ],
 "metadata": {
  "kernelspec": {
   "display_name": "Pyspark 2",
   "language": "python",
   "name": "pyspark2"
  },
  "language_info": {
   "codemirror_mode": {
    "name": "ipython",
    "version": 3
   },
   "file_extension": ".py",
   "mimetype": "text/x-python",
   "name": "python",
   "nbconvert_exporter": "python",
   "pygments_lexer": "ipython3",
   "version": "3.6.9"
  }
 },
 "nbformat": 4,
 "nbformat_minor": 5
}
