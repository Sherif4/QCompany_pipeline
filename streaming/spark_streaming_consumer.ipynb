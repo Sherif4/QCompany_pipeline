{
 "cells": [
  {
   "cell_type": "code",
   "execution_count": 1,
   "id": "a1f65b0a-e13a-487a-b51e-d57a80e88103",
   "metadata": {},
   "outputs": [],
   "source": [
    "from pyspark.sql import SparkSession\n",
    "\n",
    "from pyspark.sql.functions import from_json, col\n",
    "from pyspark.sql.types import StructType, StringType, IntegerType, TimestampType, FloatType"
   ]
  },
  {
   "cell_type": "code",
   "execution_count": 32,
   "id": "910edc73-8232-42ad-b123-ab42ce6a4db2",
   "metadata": {},
   "outputs": [],
   "source": [
    "spark = SparkSession.builder \\\n",
    "    .master(\"local[6]\")\\\n",
    "    .appName(\"KafkaStreamingExample\") \\\n",
    "    .config(\"spark.jars.packages\", \"org.apache.spark:spark-sql-kafka-0-10_2.11:2.4.8\") \\\n",
    "    .getOrCreate()"
   ]
  },
  {
   "cell_type": "code",
   "execution_count": 23,
   "id": "1b7153a8-f66b-4f7d-a39d-ddfdff55f068",
   "metadata": {},
   "outputs": [],
   "source": [
    "# Kafka connection details\n",
    "bootstrap_servers = \"pkc-56d1g.eastus.azure.confluent.cloud:9092\"\n",
    "kafka_topic = \"Hassan_topic\"\n",
    "kafka_username = \"JUKQQM4ZM632RECA\"\n",
    "kafka_password = \"UUkrPuSttgOC0U9lY3ZansNsKfN9fbxZPFwrGxudDrfv+knTD4rCwK+KdIzVPX0D\""
   ]
  },
  {
   "cell_type": "code",
   "execution_count": 16,
   "id": "9ca99119-40c1-4dd8-93a9-91cb0cf804cd",
   "metadata": {},
   "outputs": [],
   "source": [
    "# Define schema for the incoming JSON data\n",
    "schema = StructType() \\\n",
    "    .add(\"eventType\", StringType()) \\\n",
    "    .add(\"customerId\", StringType()) \\\n",
    "    .add(\"productId\", StringType()) \\\n",
    "    .add(\"timestamp\", TimestampType()) \\\n",
    "    .add(\"metadata\", StructType()\n",
    "         .add(\"category\", StringType())\n",
    "         .add(\"source\", StringType())\n",
    "    ) \\\n",
    "    .add(\"quantity\", IntegerType()) \\\n",
    "    .add(\"totalAmount\", FloatType()) \\\n",
    "    .add(\"paymentMethod\", StringType()) \\\n",
    "    .add(\"recommendedProductId\", StringType()) \\\n",
    "    .add(\"algorithm\", StringType())"
   ]
  },
  {
   "cell_type": "code",
   "execution_count": 24,
   "id": "c2ac7ee3-d32d-4c21-9825-6cb5a41b96c1",
   "metadata": {},
   "outputs": [],
   "source": [
    "# Read data from Kafka topic as a streaming DataFrame\n",
    "df = spark \\\n",
    "    .readStream \\\n",
    "    .format(\"kafka\") \\\n",
    "    .option(\"kafka.bootstrap.servers\", bootstrap_servers) \\\n",
    "    .option(\"subscribe\", kafka_topic) \\\n",
    "    .option(\"startingOffsets\", \"earliest\") \\\n",
    "    .option(\"kafka.security.protocol\", \"SASL_SSL\") \\\n",
    "    .option(\"kafka.sasl.mechanism\", \"PLAIN\") \\\n",
    "    .option(\"kafka.sasl.jaas.config\",\n",
    "            f'org.apache.kafka.common.security.plain.PlainLoginModule required username=\"{kafka_username}\" password=\"{kafka_password}\";') \\\n",
    "    .load()"
   ]
  },
  {
   "cell_type": "code",
   "execution_count": 25,
   "id": "e8864ef2-b668-49cf-b390-ec91a8ddca52",
   "metadata": {},
   "outputs": [],
   "source": [
    "json_df = df.selectExpr(\"CAST(value AS STRING)\").select(from_json(\"value\", schema).alias(\"data\")).select(\"data.*\")"
   ]
  },
  {
   "cell_type": "code",
   "execution_count": 19,
   "id": "b6437732-de83-497d-8895-c2f38703cffb",
   "metadata": {},
   "outputs": [],
   "source": [
    "# Repartition the DataFrame before writing to HDFS\n",
    "repartitioned_df = json_df.repartition(4)"
   ]
  },
  {
   "cell_type": "code",
   "execution_count": 43,
   "id": "29073692-6589-4c62-9321-4e660ecf885e",
   "metadata": {},
   "outputs": [],
   "source": [
    "query = json_df \\\n",
    "    .writeStream \\\n",
    "    .outputMode(\"append\") \\\n",
    "    .format(\"parquet\") \\\n",
    "    .option(\"path\", \"hdfs://localhost:9000/data/streaming/streaming-output\") \\\n",
    "    .option(\"checkpointLocation\", \"hdfs://localhost:9000/data/streaming/checkpoint\") \\\n",
    "    .start()"
   ]
  },
  {
   "cell_type": "markdown",
   "id": "5f3ac6fe-c983-4172-96df-acb7dd1a5c5c",
   "metadata": {},
   "source": [
    "* The outputMode is set to append to append new data to the existing dataset\n",
    "* The format is set to parquet to write the data in Parquet format.\n",
    "* The path option specifies the HDFS directory where the Parquet files will be written.\n",
    "* The checkpointLocation option specifies the HDFS directory for checkpointing to ensure fault tolerance."
   ]
  },
  {
   "cell_type": "code",
   "execution_count": 44,
   "id": "74f81b87-8b09-41a6-9937-47da256b5ccd",
   "metadata": {},
   "outputs": [
    {
     "data": {
      "text/html": [
       "<table border='1'>\n",
       "<tr><th>eventType</th><th>customerId</th><th>productId</th><th>timestamp</th><th>metadata</th><th>quantity</th><th>totalAmount</th><th>paymentMethod</th><th>recommendedProductId</th><th>algorithm</th></tr>\n",
       "<tr><td>recommendationClick</td><td>71818</td><td>4109</td><td>2024-07-11 22:55:03</td><td>[,]</td><td>null</td><td>null</td><td>null</td><td>2461</td><td>content_based</td></tr>\n",
       "<tr><td>purchase</td><td>39173</td><td>6121</td><td>2024-07-10 12:00:24</td><td>[,]</td><td>1</td><td>237.6</td><td>PayPal</td><td>null</td><td>null</td></tr>\n",
       "<tr><td>recommendationClick</td><td>15996</td><td>4534</td><td>2024-07-12 02:55:52</td><td>[,]</td><td>null</td><td>null</td><td>null</td><td>9629</td><td>content_based</td></tr>\n",
       "<tr><td>addToCart</td><td>41037</td><td>6064</td><td>2024-07-12 02:55:14</td><td>[,]</td><td>4</td><td>null</td><td>null</td><td>null</td><td>null</td></tr>\n",
       "<tr><td>productView</td><td>25519</td><td>6873</td><td>2024-07-10 12:00:38</td><td>[Home &amp; Kitchen, ...</td><td>null</td><td>null</td><td>null</td><td>null</td><td>null</td></tr>\n",
       "<tr><td>purchase</td><td>29354</td><td>7267</td><td>2024-07-11 22:55:41</td><td>[,]</td><td>3</td><td>207.42</td><td>Debit Card</td><td>null</td><td>null</td></tr>\n",
       "<tr><td>recommendationClick</td><td>28824</td><td>5021</td><td>2024-07-12 02:56:03</td><td>[,]</td><td>null</td><td>null</td><td>null</td><td>7370</td><td>collaborative_fil...</td></tr>\n",
       "<tr><td>addToCart</td><td>17617</td><td>1792</td><td>2024-07-10 12:00:14</td><td>[,]</td><td>2</td><td>null</td><td>null</td><td>null</td><td>null</td></tr>\n",
       "<tr><td>purchase</td><td>77878</td><td>9731</td><td>2024-07-10 12:00:41</td><td>[,]</td><td>4</td><td>248.52</td><td>Debit Card</td><td>null</td><td>null</td></tr>\n",
       "<tr><td>addToCart</td><td>47828</td><td>9858</td><td>2024-07-12 02:55:23</td><td>[,]</td><td>1</td><td>null</td><td>null</td><td>null</td><td>null</td></tr>\n",
       "<tr><td>productView</td><td>36998</td><td>9075</td><td>2024-07-12 02:55:13</td><td>[Electronics, Dir...</td><td>null</td><td>null</td><td>null</td><td>null</td><td>null</td></tr>\n",
       "<tr><td>recommendationClick</td><td>11525</td><td>8945</td><td>2024-07-10 12:00:20</td><td>[,]</td><td>null</td><td>null</td><td>null</td><td>9052</td><td>content_based</td></tr>\n",
       "<tr><td>purchase</td><td>53577</td><td>8770</td><td>2024-07-11 22:55:15</td><td>[,]</td><td>3</td><td>32.81</td><td>Credit Card</td><td>null</td><td>null</td></tr>\n",
       "<tr><td>recommendationClick</td><td>42166</td><td>6206</td><td>2024-07-12 02:55:12</td><td>[,]</td><td>null</td><td>null</td><td>null</td><td>6660</td><td>content_based</td></tr>\n",
       "<tr><td>purchase</td><td>84721</td><td>3264</td><td>2024-07-10 12:01:11</td><td>[,]</td><td>1</td><td>52.02</td><td>Debit Card</td><td>null</td><td>null</td></tr>\n",
       "<tr><td>productView</td><td>40160</td><td>1759</td><td>2024-07-11 22:54:25</td><td>[Home &amp; Kitchen, ...</td><td>null</td><td>null</td><td>null</td><td>null</td><td>null</td></tr>\n",
       "<tr><td>recommendationClick</td><td>81438</td><td>1908</td><td>2024-07-12 02:56:05</td><td>[,]</td><td>null</td><td>null</td><td>null</td><td>1934</td><td>content_based</td></tr>\n",
       "<tr><td>productView</td><td>52345</td><td>7534</td><td>2024-07-12 02:55:39</td><td>[Clothing, Advert...</td><td>null</td><td>null</td><td>null</td><td>null</td><td>null</td></tr>\n",
       "<tr><td>recommendationClick</td><td>17271</td><td>3389</td><td>2024-07-11 22:54:54</td><td>[,]</td><td>null</td><td>null</td><td>null</td><td>2838</td><td>collaborative_fil...</td></tr>\n",
       "<tr><td>recommendationClick</td><td>18826</td><td>4871</td><td>2024-07-11 22:55:26</td><td>[,]</td><td>null</td><td>null</td><td>null</td><td>4449</td><td>collaborative_fil...</td></tr>\n",
       "</table>\n",
       "only showing top 20 rows\n"
      ],
      "text/plain": [
       "+-------------------+----------+---------+-------------------+--------------------+--------+-----------+-------------+--------------------+--------------------+\n",
       "|          eventType|customerId|productId|          timestamp|            metadata|quantity|totalAmount|paymentMethod|recommendedProductId|           algorithm|\n",
       "+-------------------+----------+---------+-------------------+--------------------+--------+-----------+-------------+--------------------+--------------------+\n",
       "|recommendationClick|     71818|     4109|2024-07-11 22:55:03|                 [,]|    null|       null|         null|                2461|       content_based|\n",
       "|           purchase|     39173|     6121|2024-07-10 12:00:24|                 [,]|       1|      237.6|       PayPal|                null|                null|\n",
       "|recommendationClick|     15996|     4534|2024-07-12 02:55:52|                 [,]|    null|       null|         null|                9629|       content_based|\n",
       "|          addToCart|     41037|     6064|2024-07-12 02:55:14|                 [,]|       4|       null|         null|                null|                null|\n",
       "|        productView|     25519|     6873|2024-07-10 12:00:38|[Home & Kitchen, ...|    null|       null|         null|                null|                null|\n",
       "|           purchase|     29354|     7267|2024-07-11 22:55:41|                 [,]|       3|     207.42|   Debit Card|                null|                null|\n",
       "|recommendationClick|     28824|     5021|2024-07-12 02:56:03|                 [,]|    null|       null|         null|                7370|collaborative_fil...|\n",
       "|          addToCart|     17617|     1792|2024-07-10 12:00:14|                 [,]|       2|       null|         null|                null|                null|\n",
       "|           purchase|     77878|     9731|2024-07-10 12:00:41|                 [,]|       4|     248.52|   Debit Card|                null|                null|\n",
       "|          addToCart|     47828|     9858|2024-07-12 02:55:23|                 [,]|       1|       null|         null|                null|                null|\n",
       "|        productView|     36998|     9075|2024-07-12 02:55:13|[Electronics, Dir...|    null|       null|         null|                null|                null|\n",
       "|recommendationClick|     11525|     8945|2024-07-10 12:00:20|                 [,]|    null|       null|         null|                9052|       content_based|\n",
       "|           purchase|     53577|     8770|2024-07-11 22:55:15|                 [,]|       3|      32.81|  Credit Card|                null|                null|\n",
       "|recommendationClick|     42166|     6206|2024-07-12 02:55:12|                 [,]|    null|       null|         null|                6660|       content_based|\n",
       "|           purchase|     84721|     3264|2024-07-10 12:01:11|                 [,]|       1|      52.02|   Debit Card|                null|                null|\n",
       "|        productView|     40160|     1759|2024-07-11 22:54:25|[Home & Kitchen, ...|    null|       null|         null|                null|                null|\n",
       "|recommendationClick|     81438|     1908|2024-07-12 02:56:05|                 [,]|    null|       null|         null|                1934|       content_based|\n",
       "|        productView|     52345|     7534|2024-07-12 02:55:39|[Clothing, Advert...|    null|       null|         null|                null|                null|\n",
       "|recommendationClick|     17271|     3389|2024-07-11 22:54:54|                 [,]|    null|       null|         null|                2838|collaborative_fil...|\n",
       "|recommendationClick|     18826|     4871|2024-07-11 22:55:26|                 [,]|    null|       null|         null|                4449|collaborative_fil...|\n",
       "+-------------------+----------+---------+-------------------+--------------------+--------+-----------+-------------+--------------------+--------------------+\n",
       "only showing top 20 rows"
      ]
     },
     "execution_count": 44,
     "metadata": {},
     "output_type": "execute_result"
    }
   ],
   "source": [
    "events = spark.read.parquet(f\"hdfs:///data/streaming/streaming-output/*\")\n",
    "events"
   ]
  },
  {
   "cell_type": "code",
   "execution_count": null,
   "id": "000b3f99-b2ea-466a-83eb-b542787698e7",
   "metadata": {},
   "outputs": [],
   "source": [
    "# query.awaitTermination()"
   ]
  },
  {
   "cell_type": "code",
   "execution_count": 45,
   "id": "c0f6cd1c-1eae-4bf7-ba46-78bcb6b82f3a",
   "metadata": {},
   "outputs": [],
   "source": [
    "query.stop()"
   ]
  },
  {
   "cell_type": "code",
   "execution_count": null,
   "id": "e3685dad-e808-43e0-aa66-fc148920d2a6",
   "metadata": {},
   "outputs": [],
   "source": [
    "# spark.stop()"
   ]
  },
  {
   "cell_type": "code",
   "execution_count": 46,
   "id": "a8a2e998-294a-47d9-be0d-ab2242cfda3e",
   "metadata": {},
   "outputs": [],
   "source": [
    "# Create a temporary view from the DataFrame\n",
    "json_df.createOrReplaceTempView(\"kafka_data\")"
   ]
  },
  {
   "cell_type": "code",
   "execution_count": 47,
   "id": "571dadb0-2c16-4c59-8bdd-7412f077f426",
   "metadata": {},
   "outputs": [],
   "source": [
    "# Execute a SQL query on the temporary view\n",
    "result_df = spark.sql(\"\"\"\n",
    "    SELECT \n",
    "        eventType,\n",
    "        customerId,\n",
    "        productId,\n",
    "        timestamp,\n",
    "        metadata.category,\n",
    "        metadata.source,\n",
    "        quantity,\n",
    "        totalAmount,\n",
    "        paymentMethod,\n",
    "        recommendedProductId,\n",
    "        algorithm\n",
    "    FROM kafka_data\n",
    "\"\"\")"
   ]
  },
  {
   "cell_type": "code",
   "execution_count": null,
   "id": "3289fcec-0c22-4a7a-9d16-326c13e438a4",
   "metadata": {},
   "outputs": [],
   "source": []
  }
 ],
 "metadata": {
  "kernelspec": {
   "display_name": "Pyspark 2",
   "language": "python",
   "name": "pyspark2"
  },
  "language_info": {
   "codemirror_mode": {
    "name": "ipython",
    "version": 3
   },
   "file_extension": ".py",
   "mimetype": "text/x-python",
   "name": "python",
   "nbconvert_exporter": "python",
   "pygments_lexer": "ipython3",
   "version": "3.6.9"
  }
 },
 "nbformat": 4,
 "nbformat_minor": 5
}
