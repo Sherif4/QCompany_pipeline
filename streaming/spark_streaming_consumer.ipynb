{
 "cells": [
  {
   "cell_type": "code",
   "execution_count": 1,
   "id": "a1f65b0a-e13a-487a-b51e-d57a80e88103",
   "metadata": {},
   "outputs": [],
   "source": [
    "from pyspark.sql import SparkSession\n",
    "\n",
    "from pyspark.sql.functions import from_json, col\n",
    "from pyspark.sql.types import StructType, StringType, IntegerType, TimestampType, FloatType"
   ]
  },
  {
   "cell_type": "code",
   "execution_count": 2,
   "id": "910edc73-8232-42ad-b123-ab42ce6a4db2",
   "metadata": {},
   "outputs": [],
   "source": [
    "spark = SparkSession.builder \\\n",
    "    .master(\"local[6]\")\\\n",
    "    .appName(\"KafkaStreaming\") \\\n",
    "    .config(\"spark.jars.packages\", \"org.apache.spark:spark-sql-kafka-0-10_2.11:2.4.8\") \\\n",
    "    .getOrCreate()"
   ]
  },
  {
   "cell_type": "code",
   "execution_count": 3,
   "id": "1b7153a8-f66b-4f7d-a39d-ddfdff55f068",
   "metadata": {},
   "outputs": [],
   "source": [
    "# Kafka connection details\n",
    "bootstrap_servers = \"pkc-56d1g.eastus.azure.confluent.cloud:9092\"\n",
    "kafka_topic = \"Hassan_topic\"\n",
    "kafka_username = \"JUKQQM4ZM632RECA\"\n",
    "kafka_password = \"UUkrPuSttgOC0U9lY3ZansNsKfN9fbxZPFwrGxudDrfv+knTD4rCwK+KdIzVPX0D\""
   ]
  },
  {
   "cell_type": "code",
   "execution_count": 4,
   "id": "9ca99119-40c1-4dd8-93a9-91cb0cf804cd",
   "metadata": {},
   "outputs": [],
   "source": [
    "# Define schema for the incoming JSON data\n",
    "schema = StructType() \\\n",
    "    .add(\"eventType\", StringType()) \\\n",
    "    .add(\"customerId\", StringType()) \\\n",
    "    .add(\"productId\", StringType()) \\\n",
    "    .add(\"timestamp\", TimestampType()) \\\n",
    "    .add(\"metadata\", StructType()\n",
    "         .add(\"category\", StringType())\n",
    "         .add(\"source\", StringType())\n",
    "    ) \\\n",
    "    .add(\"quantity\", IntegerType()) \\\n",
    "    .add(\"totalAmount\", FloatType()) \\\n",
    "    .add(\"paymentMethod\", StringType()) \\\n",
    "    .add(\"recommendedProductId\", StringType()) \\\n",
    "    .add(\"algorithm\", StringType())"
   ]
  },
  {
   "cell_type": "code",
   "execution_count": 5,
   "id": "c2ac7ee3-d32d-4c21-9825-6cb5a41b96c1",
   "metadata": {},
   "outputs": [],
   "source": [
    "# Read data from Kafka topic as a streaming DataFrame\n",
    "df = spark \\\n",
    "    .readStream \\\n",
    "    .format(\"kafka\") \\\n",
    "    .option(\"kafka.bootstrap.servers\", bootstrap_servers) \\\n",
    "    .option(\"subscribe\", kafka_topic) \\\n",
    "    .option(\"startingOffsets\", \"earliest\") \\\n",
    "    .option(\"kafka.security.protocol\", \"SASL_SSL\") \\\n",
    "    .option(\"kafka.sasl.mechanism\", \"PLAIN\") \\\n",
    "    .option(\"kafka.sasl.jaas.config\",\n",
    "            f'org.apache.kafka.common.security.plain.PlainLoginModule required username=\"{kafka_username}\" password=\"{kafka_password}\";') \\\n",
    "    .load()"
   ]
  },
  {
   "cell_type": "code",
   "execution_count": 6,
   "id": "e8864ef2-b668-49cf-b390-ec91a8ddca52",
   "metadata": {},
   "outputs": [],
   "source": [
    "json_df = df.selectExpr(\"CAST(value AS STRING)\").select(from_json(\"value\", schema).alias(\"data\")).select(\"data.*\")"
   ]
  },
  {
   "cell_type": "code",
   "execution_count": 7,
   "id": "29073692-6589-4c62-9321-4e660ecf885e",
   "metadata": {},
   "outputs": [],
   "source": [
    "query = json_df.repartition(1) \\\n",
    "    .writeStream \\\n",
    "    .outputMode(\"append\") \\\n",
    "    .format(\"parquet\") \\\n",
    "    .option(\"path\", \"hdfs://localhost:9000/data/streaming/streaming-output\") \\\n",
    "    .option(\"checkpointLocation\", \"hdfs://localhost:9000/data/streaming/checkpoint\") \\\n",
    "    .start()"
   ]
  },
  {
   "cell_type": "markdown",
   "id": "5f3ac6fe-c983-4172-96df-acb7dd1a5c5c",
   "metadata": {},
   "source": [
    "* The outputMode is set to append to append new data to the existing dataset\n",
    "* The format is set to parquet to write the data in Parquet format.\n",
    "* The path option specifies the HDFS directory where the Parquet files will be written.\n",
    "* The checkpointLocation option specifies the HDFS directory for checkpointing to ensure fault tolerance."
   ]
  },
  {
   "cell_type": "code",
   "execution_count": 8,
   "id": "74f81b87-8b09-41a6-9937-47da256b5ccd",
   "metadata": {},
   "outputs": [
    {
     "data": {
      "text/html": [
       "<table border='1'>\n",
       "<tr><th>eventType</th><th>customerId</th><th>productId</th><th>timestamp</th><th>metadata</th><th>quantity</th><th>totalAmount</th><th>paymentMethod</th><th>recommendedProductId</th><th>algorithm</th></tr>\n",
       "<tr><td>addToCart</td><td>77429</td><td>4408</td><td>2024-07-10 12:00:02</td><td>[,]</td><td>1</td><td>null</td><td>null</td><td>null</td><td>null</td></tr>\n",
       "<tr><td>addToCart</td><td>29575</td><td>9480</td><td>2024-07-10 12:00:03</td><td>[,]</td><td>3</td><td>null</td><td>null</td><td>null</td><td>null</td></tr>\n",
       "<tr><td>purchase</td><td>91816</td><td>7641</td><td>2024-07-10 12:00:05</td><td>[,]</td><td>3</td><td>259.46</td><td>Debit Card</td><td>null</td><td>null</td></tr>\n",
       "<tr><td>addToCart</td><td>55263</td><td>3146</td><td>2024-07-10 12:00:05</td><td>[,]</td><td>5</td><td>null</td><td>null</td><td>null</td><td>null</td></tr>\n",
       "<tr><td>productView</td><td>91972</td><td>7018</td><td>2024-07-10 12:00:07</td><td>[Home &amp; Kitchen, ...</td><td>null</td><td>null</td><td>null</td><td>null</td><td>null</td></tr>\n",
       "<tr><td>addToCart</td><td>10756</td><td>1518</td><td>2024-07-10 12:00:09</td><td>[,]</td><td>5</td><td>null</td><td>null</td><td>null</td><td>null</td></tr>\n",
       "<tr><td>recommendationClick</td><td>56982</td><td>5270</td><td>2024-07-10 12:00:12</td><td>[,]</td><td>null</td><td>null</td><td>null</td><td>2936</td><td>collaborative_fil...</td></tr>\n",
       "<tr><td>addToCart</td><td>17617</td><td>1792</td><td>2024-07-10 12:00:14</td><td>[,]</td><td>2</td><td>null</td><td>null</td><td>null</td><td>null</td></tr>\n",
       "<tr><td>productView</td><td>91514</td><td>8582</td><td>2024-07-10 12:00:16</td><td>[Home &amp; Kitchen, ...</td><td>null</td><td>null</td><td>null</td><td>null</td><td>null</td></tr>\n",
       "<tr><td>purchase</td><td>74669</td><td>4507</td><td>2024-07-10 12:00:18</td><td>[,]</td><td>1</td><td>184.78</td><td>PayPal</td><td>null</td><td>null</td></tr>\n",
       "<tr><td>recommendationClick</td><td>11525</td><td>8945</td><td>2024-07-10 12:00:20</td><td>[,]</td><td>null</td><td>null</td><td>null</td><td>9052</td><td>content_based</td></tr>\n",
       "<tr><td>addToCart</td><td>58113</td><td>4843</td><td>2024-07-10 12:00:20</td><td>[,]</td><td>3</td><td>null</td><td>null</td><td>null</td><td>null</td></tr>\n",
       "<tr><td>purchase</td><td>39173</td><td>6121</td><td>2024-07-10 12:00:24</td><td>[,]</td><td>1</td><td>237.6</td><td>PayPal</td><td>null</td><td>null</td></tr>\n",
       "<tr><td>productView</td><td>66247</td><td>5539</td><td>2024-07-10 12:00:28</td><td>[Home &amp; Kitchen, ...</td><td>null</td><td>null</td><td>null</td><td>null</td><td>null</td></tr>\n",
       "<tr><td>addToCart</td><td>36477</td><td>1554</td><td>2024-07-10 12:00:29</td><td>[,]</td><td>5</td><td>null</td><td>null</td><td>null</td><td>null</td></tr>\n",
       "<tr><td>addToCart</td><td>19771</td><td>1257</td><td>2024-07-10 12:00:31</td><td>[,]</td><td>5</td><td>null</td><td>null</td><td>null</td><td>null</td></tr>\n",
       "<tr><td>productView</td><td>78795</td><td>6493</td><td>2024-07-10 12:00:32</td><td>[Home &amp; Kitchen, ...</td><td>null</td><td>null</td><td>null</td><td>null</td><td>null</td></tr>\n",
       "<tr><td>purchase</td><td>57475</td><td>3726</td><td>2024-07-10 12:00:34</td><td>[,]</td><td>2</td><td>212.18</td><td>Credit Card</td><td>null</td><td>null</td></tr>\n",
       "<tr><td>addToCart</td><td>98134</td><td>6674</td><td>2024-07-10 12:00:35</td><td>[,]</td><td>2</td><td>null</td><td>null</td><td>null</td><td>null</td></tr>\n",
       "<tr><td>addToCart</td><td>21244</td><td>5596</td><td>2024-07-10 12:00:36</td><td>[,]</td><td>3</td><td>null</td><td>null</td><td>null</td><td>null</td></tr>\n",
       "</table>\n",
       "only showing top 20 rows\n"
      ],
      "text/plain": [
       "+-------------------+----------+---------+-------------------+--------------------+--------+-----------+-------------+--------------------+--------------------+\n",
       "|          eventType|customerId|productId|          timestamp|            metadata|quantity|totalAmount|paymentMethod|recommendedProductId|           algorithm|\n",
       "+-------------------+----------+---------+-------------------+--------------------+--------+-----------+-------------+--------------------+--------------------+\n",
       "|          addToCart|     77429|     4408|2024-07-10 12:00:02|                 [,]|       1|       null|         null|                null|                null|\n",
       "|          addToCart|     29575|     9480|2024-07-10 12:00:03|                 [,]|       3|       null|         null|                null|                null|\n",
       "|           purchase|     91816|     7641|2024-07-10 12:00:05|                 [,]|       3|     259.46|   Debit Card|                null|                null|\n",
       "|          addToCart|     55263|     3146|2024-07-10 12:00:05|                 [,]|       5|       null|         null|                null|                null|\n",
       "|        productView|     91972|     7018|2024-07-10 12:00:07|[Home & Kitchen, ...|    null|       null|         null|                null|                null|\n",
       "|          addToCart|     10756|     1518|2024-07-10 12:00:09|                 [,]|       5|       null|         null|                null|                null|\n",
       "|recommendationClick|     56982|     5270|2024-07-10 12:00:12|                 [,]|    null|       null|         null|                2936|collaborative_fil...|\n",
       "|          addToCart|     17617|     1792|2024-07-10 12:00:14|                 [,]|       2|       null|         null|                null|                null|\n",
       "|        productView|     91514|     8582|2024-07-10 12:00:16|[Home & Kitchen, ...|    null|       null|         null|                null|                null|\n",
       "|           purchase|     74669|     4507|2024-07-10 12:00:18|                 [,]|       1|     184.78|       PayPal|                null|                null|\n",
       "|recommendationClick|     11525|     8945|2024-07-10 12:00:20|                 [,]|    null|       null|         null|                9052|       content_based|\n",
       "|          addToCart|     58113|     4843|2024-07-10 12:00:20|                 [,]|       3|       null|         null|                null|                null|\n",
       "|           purchase|     39173|     6121|2024-07-10 12:00:24|                 [,]|       1|      237.6|       PayPal|                null|                null|\n",
       "|        productView|     66247|     5539|2024-07-10 12:00:28|[Home & Kitchen, ...|    null|       null|         null|                null|                null|\n",
       "|          addToCart|     36477|     1554|2024-07-10 12:00:29|                 [,]|       5|       null|         null|                null|                null|\n",
       "|          addToCart|     19771|     1257|2024-07-10 12:00:31|                 [,]|       5|       null|         null|                null|                null|\n",
       "|        productView|     78795|     6493|2024-07-10 12:00:32|[Home & Kitchen, ...|    null|       null|         null|                null|                null|\n",
       "|           purchase|     57475|     3726|2024-07-10 12:00:34|                 [,]|       2|     212.18|  Credit Card|                null|                null|\n",
       "|          addToCart|     98134|     6674|2024-07-10 12:00:35|                 [,]|       2|       null|         null|                null|                null|\n",
       "|          addToCart|     21244|     5596|2024-07-10 12:00:36|                 [,]|       3|       null|         null|                null|                null|\n",
       "+-------------------+----------+---------+-------------------+--------------------+--------+-----------+-------------+--------------------+--------------------+\n",
       "only showing top 20 rows"
      ]
     },
     "execution_count": 8,
     "metadata": {},
     "output_type": "execute_result"
    }
   ],
   "source": [
    "events = spark.read.parquet(f\"hdfs:///data/streaming/streaming-output/*\")\n",
    "events"
   ]
  },
  {
   "cell_type": "code",
   "execution_count": null,
   "id": "000b3f99-b2ea-466a-83eb-b542787698e7",
   "metadata": {},
   "outputs": [],
   "source": [
    "# query.awaitTermination()"
   ]
  },
  {
   "cell_type": "code",
   "execution_count": 45,
   "id": "c0f6cd1c-1eae-4bf7-ba46-78bcb6b82f3a",
   "metadata": {},
   "outputs": [],
   "source": [
    "#query.stop()"
   ]
  },
  {
   "cell_type": "code",
   "execution_count": null,
   "id": "e3685dad-e808-43e0-aa66-fc148920d2a6",
   "metadata": {},
   "outputs": [],
   "source": [
    "# spark.stop()"
   ]
  },
  {
   "cell_type": "code",
   "execution_count": 9,
   "id": "da0d815a-3ae8-4892-b536-da3b4af5ff69",
   "metadata": {},
   "outputs": [
    {
     "name": "stdout",
     "output_type": "stream",
     "text": [
      "+-------------------+----------+---------+-------------------+--------------------+--------------------+\n",
      "|          eventType|customerId|productId|          timestamp|recommendedProductId|           algorithm|\n",
      "+-------------------+----------+---------+-------------------+--------------------+--------------------+\n",
      "|recommendationClick|     56982|     5270|2024-07-10 12:00:12|                2936|collaborative_fil...|\n",
      "|recommendationClick|     11525|     8945|2024-07-10 12:00:20|                9052|       content_based|\n",
      "|recommendationClick|     33684|     2755|2024-07-10 12:00:43|                4169|       content_based|\n",
      "|recommendationClick|     21583|     1446|2024-07-10 12:00:46|                2920|collaborative_fil...|\n",
      "|recommendationClick|     41597|     2014|2024-07-10 12:01:12|                6237|       content_based|\n",
      "|recommendationClick|     61395|     2664|2024-07-10 12:01:13|                4250|       content_based|\n",
      "|recommendationClick|     11690|     2566|2024-07-10 12:01:18|                1039|       content_based|\n",
      "|recommendationClick|     30780|     9862|2024-07-10 12:01:27|                1650|       content_based|\n",
      "|recommendationClick|     96657|     6389|2024-07-11 22:54:28|                8836|       content_based|\n",
      "|recommendationClick|     16802|     9067|2024-07-11 22:54:34|                7879|collaborative_fil...|\n",
      "|recommendationClick|     29131|     5661|2024-07-11 22:54:42|                6490|collaborative_fil...|\n",
      "|recommendationClick|     49743|     5079|2024-07-11 22:54:46|                4654|collaborative_fil...|\n",
      "|recommendationClick|     17271|     3389|2024-07-11 22:54:54|                2838|collaborative_fil...|\n",
      "|recommendationClick|     87166|     7860|2024-07-11 22:54:56|                1435|collaborative_fil...|\n",
      "|recommendationClick|     71818|     4109|2024-07-11 22:55:03|                2461|       content_based|\n",
      "|recommendationClick|     77488|     7732|2024-07-11 22:55:16|                3244|       content_based|\n",
      "|recommendationClick|     92948|     5951|2024-07-11 22:55:20|                7151|collaborative_fil...|\n",
      "|recommendationClick|     18826|     4871|2024-07-11 22:55:26|                4449|collaborative_fil...|\n",
      "|recommendationClick|     87261|     7465|2024-07-11 22:55:29|                9594|       content_based|\n",
      "|recommendationClick|     47991|     6253|2024-07-11 22:55:35|                1129|collaborative_fil...|\n",
      "+-------------------+----------+---------+-------------------+--------------------+--------------------+\n",
      "only showing top 20 rows\n",
      "\n",
      "+---------+----------+---------+-------------------+--------+-----------+-------------+\n",
      "|eventType|customerId|productId|          timestamp|quantity|totalAmount|paymentMethod|\n",
      "+---------+----------+---------+-------------------+--------+-----------+-------------+\n",
      "| purchase|     91816|     7641|2024-07-10 12:00:05|       3|     259.46|   Debit Card|\n",
      "| purchase|     74669|     4507|2024-07-10 12:00:18|       1|     184.78|       PayPal|\n",
      "| purchase|     39173|     6121|2024-07-10 12:00:24|       1|      237.6|       PayPal|\n",
      "| purchase|     57475|     3726|2024-07-10 12:00:34|       2|     212.18|  Credit Card|\n",
      "| purchase|     77878|     9731|2024-07-10 12:00:41|       4|     248.52|   Debit Card|\n",
      "| purchase|     31240|     3123|2024-07-10 12:00:43|       2|     177.27|  Credit Card|\n",
      "| purchase|     83134|     1874|2024-07-10 12:00:50|       3|     379.06|   Debit Card|\n",
      "| purchase|     24760|     1309|2024-07-10 12:01:08|       4|      82.96|  Credit Card|\n",
      "| purchase|     84721|     3264|2024-07-10 12:01:11|       1|      52.02|   Debit Card|\n",
      "| purchase|     46735|     8439|2024-07-11 22:54:15|       1|      78.17|       PayPal|\n",
      "| purchase|     21885|     4820|2024-07-11 22:54:16|       2|      224.5|  Credit Card|\n",
      "| purchase|     61195|     6593|2024-07-11 22:54:47|       1|      200.5|  Credit Card|\n",
      "| purchase|     23337|     9150|2024-07-11 22:54:51|       5|     357.59|   Debit Card|\n",
      "| purchase|     53577|     8770|2024-07-11 22:55:15|       3|      32.81|  Credit Card|\n",
      "| purchase|     22410|     8543|2024-07-11 22:55:21|       1|     301.35|   Debit Card|\n",
      "| purchase|     94826|     6096|2024-07-11 22:55:22|       2|      44.06|   Debit Card|\n",
      "| purchase|     29354|     7267|2024-07-11 22:55:41|       3|     207.42|   Debit Card|\n",
      "| purchase|     33348|     3849|2024-07-12 02:55:36|       2|     238.51|  Credit Card|\n",
      "| purchase|     48395|     5866|2024-07-12 02:55:47|       5|     429.24|       PayPal|\n",
      "| purchase|     30329|     9111|2024-07-12 02:55:56|       2|     362.14|   Debit Card|\n",
      "+---------+----------+---------+-------------------+--------+-----------+-------------+\n",
      "only showing top 20 rows\n",
      "\n",
      "+---------+----------+---------+-------------------+--------+\n",
      "|eventType|customerId|productId|          timestamp|quantity|\n",
      "+---------+----------+---------+-------------------+--------+\n",
      "|addToCart|     77429|     4408|2024-07-10 12:00:02|       1|\n",
      "|addToCart|     29575|     9480|2024-07-10 12:00:03|       3|\n",
      "|addToCart|     55263|     3146|2024-07-10 12:00:05|       5|\n",
      "|addToCart|     10756|     1518|2024-07-10 12:00:09|       5|\n",
      "|addToCart|     17617|     1792|2024-07-10 12:00:14|       2|\n",
      "|addToCart|     58113|     4843|2024-07-10 12:00:20|       3|\n",
      "|addToCart|     36477|     1554|2024-07-10 12:00:29|       5|\n",
      "|addToCart|     19771|     1257|2024-07-10 12:00:31|       5|\n",
      "|addToCart|     98134|     6674|2024-07-10 12:00:35|       2|\n",
      "|addToCart|     21244|     5596|2024-07-10 12:00:36|       3|\n",
      "|addToCart|     89441|     5792|2024-07-10 12:00:37|       3|\n",
      "|addToCart|     12602|     5305|2024-07-10 12:00:52|       1|\n",
      "|addToCart|     16056|     8115|2024-07-10 12:00:56|       4|\n",
      "|addToCart|     54650|     7409|2024-07-10 12:01:20|       5|\n",
      "|addToCart|     80624|     7819|2024-07-11 22:54:13|       4|\n",
      "|addToCart|     78969|     6196|2024-07-11 22:54:43|       5|\n",
      "|addToCart|     69063|     8397|2024-07-11 22:55:31|       3|\n",
      "|addToCart|     80444|     1110|2024-07-11 22:55:39|       2|\n",
      "|addToCart|     41037|     6064|2024-07-12 02:55:14|       4|\n",
      "|addToCart|     12901|     1262|2024-07-12 02:55:21|       4|\n",
      "+---------+----------+---------+-------------------+--------+\n",
      "only showing top 20 rows\n",
      "\n",
      "+-----------+----------+---------+-------------------+--------------------+\n",
      "|  eventType|customerId|productId|          timestamp|            metadata|\n",
      "+-----------+----------+---------+-------------------+--------------------+\n",
      "|productView|     91972|     7018|2024-07-10 12:00:07|[Home & Kitchen, ...|\n",
      "|productView|     91514|     8582|2024-07-10 12:00:16|[Home & Kitchen, ...|\n",
      "|productView|     66247|     5539|2024-07-10 12:00:28|[Home & Kitchen, ...|\n",
      "|productView|     78795|     6493|2024-07-10 12:00:32|[Home & Kitchen, ...|\n",
      "|productView|     25519|     6873|2024-07-10 12:00:38|[Home & Kitchen, ...|\n",
      "|productView|     11649|     2376|2024-07-10 12:00:46|[Clothing, Advert...|\n",
      "|productView|     75980|     5068|2024-07-10 12:00:54|  [Clothing, Direct]|\n",
      "|productView|     60608|     8376|2024-07-10 12:01:15|[Books, Advertise...|\n",
      "|productView|     83056|     4196|2024-07-10 12:01:16|  [Clothing, Search]|\n",
      "|productView|     79907|     3657|2024-07-10 12:01:19|[Electronics, Dir...|\n",
      "|productView|     18973|     9930|2024-07-10 12:01:21|[Electronics, Adv...|\n",
      "|productView|     32731|     8225|2024-07-10 12:01:26|[Books, Advertise...|\n",
      "|productView|     87521|     8216|2024-07-11 22:54:10|[Home & Kitchen, ...|\n",
      "|productView|     79982|     7660|2024-07-11 22:54:18|[Home & Kitchen, ...|\n",
      "|productView|     40160|     1759|2024-07-11 22:54:25|[Home & Kitchen, ...|\n",
      "|productView|     87953|     8170|2024-07-11 22:54:26|[Electronics, Sea...|\n",
      "|productView|     73361|     5930|2024-07-11 22:54:36|[Books, Advertise...|\n",
      "|productView|     42158|     7282|2024-07-11 22:54:38|[Books, Advertise...|\n",
      "|productView|     32819|     8975|2024-07-11 22:54:48|[Electronics, Adv...|\n",
      "|productView|     85801|     1275|2024-07-11 22:54:55|     [Books, Direct]|\n",
      "+-----------+----------+---------+-------------------+--------------------+\n",
      "only showing top 20 rows\n",
      "\n",
      "root\n",
      " |-- eventType: string (nullable = true)\n",
      " |-- customerId: string (nullable = true)\n",
      " |-- productId: string (nullable = true)\n",
      " |-- timestamp: timestamp (nullable = true)\n",
      " |-- metadata: struct (nullable = true)\n",
      " |    |-- category: string (nullable = true)\n",
      " |    |-- source: string (nullable = true)\n",
      "\n"
     ]
    }
   ],
   "source": [
    "# Filter and select columns based on eventType\n",
    "df_recommendation_click = events.filter(col(\"eventType\") == \"recommendationClick\").select(\"eventType\", \"customerId\", \"productId\", \"timestamp\", \"recommendedProductId\", \"algorithm\")\n",
    "df_purchase = events.filter(col(\"eventType\") == \"purchase\").select(\"eventType\", \"customerId\", \"productId\", \"timestamp\", \"quantity\", \"totalAmount\", \"paymentMethod\")\n",
    "df_add_to_cart = events.filter(col(\"eventType\") == \"addToCart\").select(\"eventType\", \"customerId\", \"productId\", \"timestamp\", \"quantity\")\n",
    "df_product_view = events.filter(col(\"eventType\") == \"productView\").select(\"eventType\", \"customerId\", \"productId\", \"timestamp\", \"metadata\")\n",
    "\n",
    "# Show results\n",
    "df_recommendation_click.show()\n",
    "df_purchase.show()\n",
    "df_add_to_cart.show()\n",
    "df_product_view.show()\n",
    "df_product_view.printSchema()"
   ]
  },
  {
   "cell_type": "code",
   "execution_count": 10,
   "id": "83fba4c0-e9de-4c68-ae60-68bad88551ee",
   "metadata": {},
   "outputs": [],
   "source": [
    "name=\"recommendation_click\"\n",
    "df_recommendation_click.repartition(1).write.mode('overwrite').parquet(f\"hdfs:///data/streaming/{name}\")"
   ]
  },
  {
   "cell_type": "code",
   "execution_count": 11,
   "id": "69830439-f85a-432c-82ec-80e51184c353",
   "metadata": {},
   "outputs": [],
   "source": [
    "name=\"purchase\"\n",
    "df_purchase.repartition(1).write.mode('overwrite').parquet(f\"hdfs:///data/streaming/{name}\")"
   ]
  },
  {
   "cell_type": "code",
   "execution_count": 12,
   "id": "e76bd844-3e14-4e1c-af7d-0aeaff2d5942",
   "metadata": {},
   "outputs": [],
   "source": [
    "\n",
    "name=\"add_to_cart\"\n",
    "df_add_to_cart.repartition(1).write.mode('overwrite').parquet(f\"hdfs:///data/streaming/{name}\")"
   ]
  },
  {
   "cell_type": "code",
   "execution_count": 13,
   "id": "78fd60e2-c13f-49b5-8cec-119ae9046085",
   "metadata": {},
   "outputs": [],
   "source": [
    "name=\"product_view\"\n",
    "df_product_view.repartition(1).write.mode('overwrite').parquet(f\"hdfs:///data/streaming/{name}\")"
   ]
  },
  {
   "cell_type": "code",
   "execution_count": 46,
   "id": "a8a2e998-294a-47d9-be0d-ab2242cfda3e",
   "metadata": {},
   "outputs": [],
   "source": [
    "# Create a temporary view from the DataFrame\n",
    "json_df.createOrReplaceTempView(\"kafka_data\")"
   ]
  },
  {
   "cell_type": "code",
   "execution_count": 47,
   "id": "571dadb0-2c16-4c59-8bdd-7412f077f426",
   "metadata": {},
   "outputs": [],
   "source": [
    "# Execute a SQL query on the temporary view\n",
    "result_df = spark.sql(\"\"\"\n",
    "    SELECT \n",
    "        eventType,\n",
    "        customerId,\n",
    "        productId,\n",
    "        timestamp,\n",
    "        metadata.category,\n",
    "        metadata.source,\n",
    "        quantity,\n",
    "        totalAmount,\n",
    "        paymentMethod,\n",
    "        recommendedProductId,\n",
    "        algorithm\n",
    "    FROM kafka_data\n",
    "\"\"\")"
   ]
  },
  {
   "cell_type": "code",
   "execution_count": 14,
   "id": "c3ece180-8c32-4b00-9779-bf5a8cefd92b",
   "metadata": {},
   "outputs": [
    {
     "name": "stdout",
     "output_type": "stream",
     "text": [
      "+----------+-------------------+\n",
      "|customerId|totalPurchaseAmount|\n",
      "+----------+-------------------+\n",
      "|     49168|  494.6099853515625|\n",
      "|     89942|  494.3599853515625|\n",
      "|     17292|   489.760009765625|\n",
      "|     44273|  485.2799987792969|\n",
      "|     43561|   481.739990234375|\n",
      "+----------+-------------------+\n",
      "\n"
     ]
    }
   ],
   "source": [
    "df_purchase.createOrReplaceTempView(\"topfivecustomer\")\n",
    "query_two=spark.sql(\"\"\"SELECT \n",
    "    customerId, \n",
    "    SUM(totalAmount) AS totalPurchaseAmount\n",
    "    FROM \n",
    "        topfivecustomer\n",
    "    GROUP BY \n",
    "        customerId\n",
    "    ORDER BY \n",
    "        totalPurchaseAmount DESC\n",
    "    LIMIT 5\n",
    "\"\"\")\n",
    "query_two.show()"
   ]
  },
  {
   "cell_type": "code",
   "execution_count": null,
   "id": "3289fcec-0c22-4a7a-9d16-326c13e438a4",
   "metadata": {},
   "outputs": [],
   "source": []
  }
 ],
 "metadata": {
  "kernelspec": {
   "display_name": "Pyspark 2",
   "language": "python",
   "name": "pyspark2"
  },
  "language_info": {
   "codemirror_mode": {
    "name": "ipython",
    "version": 3
   },
   "file_extension": ".py",
   "mimetype": "text/x-python",
   "name": "python",
   "nbconvert_exporter": "python",
   "pygments_lexer": "ipython3",
   "version": "3.6.9"
  }
 },
 "nbformat": 4,
 "nbformat_minor": 5
}
