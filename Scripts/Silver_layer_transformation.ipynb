{
 "cells": [
  {
   "cell_type": "code",
   "execution_count": 1,
   "id": "a2f66ff8-3c80-4614-b50b-f158fdc99ebe",
   "metadata": {},
   "outputs": [],
   "source": [
    "import re\n",
    "from pyspark.sql import SparkSession\n",
    "from functools import reduce\n",
    "from pyspark.sql.functions import col, regexp_replace, trim, when\n",
    "from pyspark.serializers import PickleSerializer, AutoBatchedSerializer\n",
    "from datetime import datetime\n",
    "import subprocess\n",
    "from py4j.java_gateway import java_import\n",
    "import os\n",
    "import sys"
   ]
  },
  {
   "cell_type": "code",
   "execution_count": 2,
   "id": "6a0869a3-007a-4c17-87ad-249124794144",
   "metadata": {},
   "outputs": [],
   "source": [
    "spark = SparkSession\\\n",
    "    .builder\\\n",
    "    .master(\"local[4]\")\\\n",
    "    .appName(\"Silver_layer_transformation\")\\\n",
    "    .config(\"spark.eventLog.logBlockUpdates.enabled\", True)\\\n",
    "    .getOrCreate()\n",
    "\n",
    "sc = spark.sparkContext"
   ]
  },
  {
   "cell_type": "code",
   "execution_count": 3,
   "id": "af6c6bee-184c-4f08-92a9-35ce94ce5ae8",
   "metadata": {},
   "outputs": [],
   "source": [
    "now = datetime.now()\n",
    "date_str = now.strftime(\"%Y%m%d\")\n",
    "hour_str = now.strftime(\"%H\")\n",
    "path = f\"hdfs:///data/retail_bronze/{date_str}/{hour_str}/sales_transactions_SS_raw_{date_str}_{hour_str}.parquet\""
   ]
  },
  {
   "cell_type": "code",
   "execution_count": 4,
   "id": "4c80bfb5-9dce-43f2-b7a8-8c63c944e358",
   "metadata": {},
   "outputs": [],
   "source": [
    "try:\n",
    "    if os.system(f\"hdfs dfs -test -e {path}\") == 0:\n",
    "        input_df = spark.read.parquet(path)\n",
    "    else:\n",
    "        raise SystemExit(f\"Path does not exist: {path}\")  # Exit with code 1 for missing path\n",
    "except Exception as e:\n",
    "    print(f\"An error occurred: {e}\")\n",
    "    raise SystemExit(1)  # Exit with code 1 for other errors"
   ]
  },
  {
   "cell_type": "code",
   "execution_count": 5,
   "id": "652fe7bd-3483-400e-b174-063205a74b40",
   "metadata": {},
   "outputs": [
    {
     "name": "stdout",
     "output_type": "stream",
     "text": [
      "+----------------------------+\n",
      "|customer_email              |\n",
      "+----------------------------+\n",
      "|alexander.brown@gmail.com   |\n",
      "|william.brown@gmail.com     |\n",
      "|john.williams@gmail.com     |\n",
      "|alexander.miller@yahoo.com  |\n",
      "|john.brown@hotmail.com      |\n",
      "|sophia.wilson@hotmail.com   |\n",
      "|alexander.moore@yahoo.com   |\n",
      "|alexander.wilson@hotmail.com|\n",
      "|michael.miller@yahoo.com    |\n",
      "|michael.brown@yahoo.com     |\n",
      "|john.taylor@yahoo.com       |\n",
      "|alexander.davis@yahoo.com   |\n",
      "|michael.brown@hotmail.com   |\n",
      "|james.smith@yahoo.com       |\n",
      "|emma.johnson@hotmail.com    |\n",
      "|john.johnson@yahoo.com      |\n",
      "|james.davis@yahoo.com       |\n",
      "|ava.miller@outlook.com      |\n",
      "|olivia.brown@outlook.com    |\n",
      "|sophia.brown@gmail.com      |\n",
      "+----------------------------+\n",
      "only showing top 20 rows\n",
      "\n"
     ]
    }
   ],
   "source": [
    "df_cleaned = input_df.withColumn(\"cleaned_email\", trim(regexp_replace(col(\"cusomter_email\"), r'[;*#()&}$\\[\\]\\{&\"\\'\\/>:\\%\\^|<\\\\]+.*$', '')))\n",
    "\n",
    "df_cleaned = df_cleaned.withColumn(\"customer_email\", regexp_replace(col(\"cleaned_email\"), r'\\.comm$', '.com'))\n",
    "df_cleaned.select(\"customer_email\").show(truncate=False)"
   ]
  },
  {
   "cell_type": "code",
   "execution_count": 6,
   "id": "9d1cccf7-c4d8-42f4-84b7-2d0de0131c7f",
   "metadata": {},
   "outputs": [],
   "source": [
    "df_cleaned = df_cleaned.withColumn(\"discount_perc\", when(col(\"offer_1\") == \"True\", 5). \n",
    "                                   when(col(\"offer_2\") == \"True\", 10).\n",
    "                                   when(col(\"offer_3\") == \"True\", 15).\n",
    "                                   when(col(\"offer_4\") == \"True\", 20).\n",
    "                                   when(col(\"offer_5\") == \"True\", 25).\n",
    "                                   otherwise(0))\n",
    "df_modified = df_cleaned.drop(\"cleaned_email\", \"cusomter_email\")\n",
    "df_modified = df_modified.withColumnRenamed(\"cusomter_lname\", \"customer_lname\")"
   ]
  },
  {
   "cell_type": "code",
   "execution_count": 7,
   "id": "8ea76738-08e0-4bfc-934b-482c0d3a8ae7",
   "metadata": {},
   "outputs": [],
   "source": [
    "df_modified.repartition(1).write.mode('overwrite').parquet(f\"hdfs:///data/retail_silver/{date_str}/{hour_str}\")"
   ]
  },
  {
   "cell_type": "code",
   "execution_count": 8,
   "id": "8d780607-9d1f-40d4-9751-20a03171ac3a",
   "metadata": {},
   "outputs": [],
   "source": [
    "list_files_process = subprocess.run([\"hadoop\", \"fs\", \"-ls\", \"-C\", f\"hdfs:///data/retail_silver/{date_str}/{hour_str}/\"], stdout=subprocess.PIPE, stderr=subprocess.PIPE)                        "
   ]
  },
  {
   "cell_type": "code",
   "execution_count": 9,
   "id": "092156c7-6a93-4ac8-8d65-c62b4088da7a",
   "metadata": {},
   "outputs": [
    {
     "name": "stdout",
     "output_type": "stream",
     "text": [
      "hdfs:///data/retail_silver/20240713/07/part-00000-c08627f5-09ba-4333-b7fa-2f3e2722953f-c000.snappy.parquet\n"
     ]
    }
   ],
   "source": [
    "if list_files_process.returncode != 0:\n",
    "        print(f\"Error listing files in hdfs:///data/retail_silver/{date_str}/{hour_str}: {list_files_process.stderr.decode()}\")\n",
    "else:\n",
    "    stdout_str = list_files_process.stdout.decode()\n",
    "    file_list = stdout_str.splitlines()\n",
    "    file_to_rename = file_list[1]\n",
    "    print(file_list[1])\n",
    "    new_filename =f\"hdfs:///data/retail_silver/{date_str}/{hour_str}/sales_transactions_SS_cleaned_{date_str}_{hour_str}.parquet\"\n",
    "    subprocess.run([\"hadoop\", \"fs\", \"-mv\", file_to_rename, new_filename])\n"
   ]
  },
  {
   "cell_type": "code",
   "execution_count": 10,
   "id": "f1555dda-4fa4-48d7-b2f8-d49fad6bdcee",
   "metadata": {},
   "outputs": [
    {
     "data": {
      "text/html": [
       "<table border='1'>\n",
       "<tr><th>transaction_date</th><th>transaction_id</th><th>customer_id</th><th>customer_fname</th><th>customer_lname</th><th>sales_agent_id</th><th>branch_id</th><th>product_id</th><th>product_name</th><th>product_category</th><th>offer_1</th><th>offer_2</th><th>offer_3</th><th>offer_4</th><th>offer_5</th><th>units</th><th>unit_price</th><th>is_online</th><th>payment_method</th><th>shipping_address</th><th>customer_email</th><th>discount_perc</th></tr>\n",
       "<tr><td>2023-5-20</td><td>trx-152546429674</td><td>85469</td><td>Alexander</td><td>Brown</td><td>1.0</td><td>2.0</td><td>22</td><td>Coffee Maker</td><td>Appliances</td><td>null</td><td>null</td><td>null</td><td>null</td><td>null</td><td>10</td><td>79.99</td><td>no</td><td>Cash</td><td>null</td><td>alexander.brown@g...</td><td>0</td></tr>\n",
       "<tr><td>2022-10-25</td><td>trx-291375327542</td><td>85512</td><td>William</td><td>Brown</td><td>3.0</td><td>1.0</td><td>24</td><td>Blender</td><td>Appliances</td><td>null</td><td>null</td><td>null</td><td>true</td><td>null</td><td>5</td><td>49.99</td><td>no</td><td>Cash</td><td>null</td><td>william.brown@gma...</td><td>20</td></tr>\n",
       "<tr><td>2022-2-5</td><td>trx-312507679871</td><td>85484</td><td>John</td><td>Williams</td><td>10.0</td><td>3.0</td><td>4</td><td>Headphones</td><td>Electronics</td><td>null</td><td>null</td><td>null</td><td>null</td><td>null</td><td>1</td><td>99.99</td><td>no</td><td>Credit Card</td><td>null</td><td>john.williams@gma...</td><td>0</td></tr>\n",
       "<tr><td>2023-10-20</td><td>trx-193384855491</td><td>85528</td><td>Alexander</td><td>Miller</td><td>7.0</td><td>2.0</td><td>25</td><td>Washing Machine</td><td>Appliances</td><td>null</td><td>null</td><td>null</td><td>null</td><td>null</td><td>8</td><td>499.99</td><td>no</td><td>Cash</td><td>null</td><td>alexander.miller@...</td><td>0</td></tr>\n",
       "<tr><td>2022-11-17</td><td>trx-831626097654</td><td>85500</td><td>John</td><td>Brown</td><td>5.0</td><td>1.0</td><td>14</td><td>Camera</td><td>Electronics</td><td>null</td><td>null</td><td>true</td><td>null</td><td>null</td><td>10</td><td>399.99</td><td>no</td><td>Cash</td><td>null</td><td>john.brown@hotmai...</td><td>15</td></tr>\n",
       "<tr><td>2022-9-27</td><td>trx-158496122054</td><td>85545</td><td>Sophia</td><td>Wilson</td><td>4.0</td><td>5.0</td><td>14</td><td>Camera</td><td>Electronics</td><td>null</td><td>null</td><td>null</td><td>null</td><td>true</td><td>6</td><td>399.99</td><td>no</td><td>Credit Card</td><td>null</td><td>sophia.wilson@hot...</td><td>25</td></tr>\n",
       "<tr><td>2022-4-21</td><td>trx-722817999024</td><td>85561</td><td>Alexander</td><td>Moore</td><td>4.0</td><td>1.0</td><td>30</td><td>Electric Kettle</td><td>Appliances</td><td>null</td><td>null</td><td>null</td><td>true</td><td>null</td><td>6</td><td>24.99</td><td>no</td><td>Credit Card</td><td>null</td><td>alexander.moore@y...</td><td>20</td></tr>\n",
       "<tr><td>2023-4-28</td><td>trx-813287633702</td><td>85520</td><td>Alexander</td><td>Wilson</td><td>1.0</td><td>1.0</td><td>26</td><td>Vacuum Cleaner</td><td>Appliances</td><td>null</td><td>null</td><td>null</td><td>null</td><td>null</td><td>4</td><td>199.99</td><td>no</td><td>Cash</td><td>null</td><td>alexander.wilson@...</td><td>0</td></tr>\n",
       "<tr><td>2023-3-8</td><td>trx-219568257432</td><td>85488</td><td>Michael</td><td>Miller</td><td>6.0</td><td>2.0</td><td>18</td><td>Boots</td><td>Footwear</td><td>null</td><td>null</td><td>null</td><td>null</td><td>null</td><td>10</td><td>149.99</td><td>no</td><td>Credit Card</td><td>null</td><td>michael.miller@ya...</td><td>0</td></tr>\n",
       "<tr><td>2023-6-17</td><td>trx-352160720823</td><td>85466</td><td>Michael</td><td>Brown</td><td>5.0</td><td>2.0</td><td>16</td><td>Skirt</td><td>Clothing</td><td>null</td><td>null</td><td>null</td><td>null</td><td>null</td><td>8</td><td>39.99</td><td>no</td><td>Cash</td><td>null</td><td>michael.brown@yah...</td><td>0</td></tr>\n",
       "<tr><td>2022-8-28</td><td>trx-895389231641</td><td>85559</td><td>John</td><td>Taylor</td><td>6.0</td><td>5.0</td><td>14</td><td>Camera</td><td>Electronics</td><td>null</td><td>null</td><td>null</td><td>null</td><td>null</td><td>6</td><td>399.99</td><td>no</td><td>Cash</td><td>null</td><td>john.taylor@yahoo...</td><td>0</td></tr>\n",
       "<tr><td>2023-11-19</td><td>trx-820309386661</td><td>85527</td><td>Alexander</td><td>Davis</td><td>7.0</td><td>2.0</td><td>22</td><td>Coffee Maker</td><td>Appliances</td><td>null</td><td>null</td><td>null</td><td>null</td><td>null</td><td>6</td><td>79.99</td><td>no</td><td>Credit Card</td><td>null</td><td>alexander.davis@y...</td><td>0</td></tr>\n",
       "<tr><td>2022-3-22</td><td>trx-974983174642</td><td>85502</td><td>Michael</td><td>Brown</td><td>4.0</td><td>5.0</td><td>5</td><td>T-Shirt</td><td>Clothing</td><td>true</td><td>null</td><td>null</td><td>null</td><td>null</td><td>10</td><td>19.99</td><td>no</td><td>Cash</td><td>null</td><td>michael.brown@hot...</td><td>5</td></tr>\n",
       "<tr><td>2022-9-27</td><td>trx-119174604031</td><td>85508</td><td>James</td><td>Smith</td><td>1.0</td><td>3.0</td><td>9</td><td>Boots</td><td>Footwear</td><td>null</td><td>null</td><td>null</td><td>null</td><td>null</td><td>1</td><td>129.99</td><td>no</td><td>Credit Card</td><td>null</td><td>james.smith@yahoo...</td><td>0</td></tr>\n",
       "<tr><td>2022-4-3</td><td>trx-474525094645</td><td>85549</td><td>Emma</td><td>Johnson</td><td>2.0</td><td>3.0</td><td>2</td><td>Smartphone</td><td>Electronics</td><td>null</td><td>null</td><td>null</td><td>null</td><td>null</td><td>9</td><td>699.99</td><td>no</td><td>Credit Card</td><td>null</td><td>emma.johnson@hotm...</td><td>0</td></tr>\n",
       "<tr><td>2022-12-14</td><td>trx-355633008132</td><td>85483</td><td>John</td><td>Johnson</td><td>9.0</td><td>5.0</td><td>27</td><td>Iron</td><td>Appliances</td><td>null</td><td>true</td><td>null</td><td>null</td><td>null</td><td>9</td><td>29.99</td><td>no</td><td>Credit Card</td><td>null</td><td>john.johnson@yaho...</td><td>10</td></tr>\n",
       "<tr><td>2023-4-14</td><td>trx-490311940006</td><td>85496</td><td>James</td><td>Davis</td><td>8.0</td><td>2.0</td><td>19</td><td>Sandals</td><td>Footwear</td><td>null</td><td>true</td><td>null</td><td>null</td><td>null</td><td>2</td><td>29.99</td><td>no</td><td>Credit Card</td><td>null</td><td>james.davis@yahoo...</td><td>10</td></tr>\n",
       "<tr><td>2023-1-19</td><td>trx-132205124356</td><td>85507</td><td>Ava</td><td>Miller</td><td>2.0</td><td>2.0</td><td>28</td><td>Hair Dryer</td><td>Appliances</td><td>null</td><td>null</td><td>null</td><td>null</td><td>null</td><td>3</td><td>19.99</td><td>no</td><td>Cash</td><td>null</td><td>ava.miller@outloo...</td><td>0</td></tr>\n",
       "<tr><td>2023-10-14</td><td>trx-276319959382</td><td>85543</td><td>Olivia</td><td>Brown</td><td>10.0</td><td>5.0</td><td>24</td><td>Blender</td><td>Appliances</td><td>null</td><td>null</td><td>null</td><td>null</td><td>null</td><td>10</td><td>49.99</td><td>no</td><td>Cash</td><td>null</td><td>olivia.brown@outl...</td><td>0</td></tr>\n",
       "<tr><td>2022-3-24</td><td>trx-024853282614</td><td>85518</td><td>Sophia</td><td>Brown</td><td>1.0</td><td>4.0</td><td>3</td><td>Tablet</td><td>Electronics</td><td>null</td><td>null</td><td>true</td><td>null</td><td>null</td><td>1</td><td>299.99</td><td>no</td><td>Cash</td><td>null</td><td>sophia.brown@gmai...</td><td>15</td></tr>\n",
       "</table>\n",
       "only showing top 20 rows\n"
      ],
      "text/plain": [
       "+----------------+----------------+-----------+--------------+--------------+--------------+---------+----------+---------------+----------------+-------+-------+-------+-------+-------+-----+----------+---------+--------------+----------------+--------------------+-------------+\n",
       "|transaction_date|  transaction_id|customer_id|customer_fname|customer_lname|sales_agent_id|branch_id|product_id|   product_name|product_category|offer_1|offer_2|offer_3|offer_4|offer_5|units|unit_price|is_online|payment_method|shipping_address|      customer_email|discount_perc|\n",
       "+----------------+----------------+-----------+--------------+--------------+--------------+---------+----------+---------------+----------------+-------+-------+-------+-------+-------+-----+----------+---------+--------------+----------------+--------------------+-------------+\n",
       "|       2023-5-20|trx-152546429674|      85469|     Alexander|         Brown|           1.0|      2.0|        22|   Coffee Maker|      Appliances|   null|   null|   null|   null|   null|   10|     79.99|       no|          Cash|            null|alexander.brown@g...|            0|\n",
       "|      2022-10-25|trx-291375327542|      85512|       William|         Brown|           3.0|      1.0|        24|        Blender|      Appliances|   null|   null|   null|   true|   null|    5|     49.99|       no|          Cash|            null|william.brown@gma...|           20|\n",
       "|        2022-2-5|trx-312507679871|      85484|          John|      Williams|          10.0|      3.0|         4|     Headphones|     Electronics|   null|   null|   null|   null|   null|    1|     99.99|       no|   Credit Card|            null|john.williams@gma...|            0|\n",
       "|      2023-10-20|trx-193384855491|      85528|     Alexander|        Miller|           7.0|      2.0|        25|Washing Machine|      Appliances|   null|   null|   null|   null|   null|    8|    499.99|       no|          Cash|            null|alexander.miller@...|            0|\n",
       "|      2022-11-17|trx-831626097654|      85500|          John|         Brown|           5.0|      1.0|        14|         Camera|     Electronics|   null|   null|   true|   null|   null|   10|    399.99|       no|          Cash|            null|john.brown@hotmai...|           15|\n",
       "|       2022-9-27|trx-158496122054|      85545|        Sophia|        Wilson|           4.0|      5.0|        14|         Camera|     Electronics|   null|   null|   null|   null|   true|    6|    399.99|       no|   Credit Card|            null|sophia.wilson@hot...|           25|\n",
       "|       2022-4-21|trx-722817999024|      85561|     Alexander|         Moore|           4.0|      1.0|        30|Electric Kettle|      Appliances|   null|   null|   null|   true|   null|    6|     24.99|       no|   Credit Card|            null|alexander.moore@y...|           20|\n",
       "|       2023-4-28|trx-813287633702|      85520|     Alexander|        Wilson|           1.0|      1.0|        26| Vacuum Cleaner|      Appliances|   null|   null|   null|   null|   null|    4|    199.99|       no|          Cash|            null|alexander.wilson@...|            0|\n",
       "|        2023-3-8|trx-219568257432|      85488|       Michael|        Miller|           6.0|      2.0|        18|          Boots|        Footwear|   null|   null|   null|   null|   null|   10|    149.99|       no|   Credit Card|            null|michael.miller@ya...|            0|\n",
       "|       2023-6-17|trx-352160720823|      85466|       Michael|         Brown|           5.0|      2.0|        16|          Skirt|        Clothing|   null|   null|   null|   null|   null|    8|     39.99|       no|          Cash|            null|michael.brown@yah...|            0|\n",
       "|       2022-8-28|trx-895389231641|      85559|          John|        Taylor|           6.0|      5.0|        14|         Camera|     Electronics|   null|   null|   null|   null|   null|    6|    399.99|       no|          Cash|            null|john.taylor@yahoo...|            0|\n",
       "|      2023-11-19|trx-820309386661|      85527|     Alexander|         Davis|           7.0|      2.0|        22|   Coffee Maker|      Appliances|   null|   null|   null|   null|   null|    6|     79.99|       no|   Credit Card|            null|alexander.davis@y...|            0|\n",
       "|       2022-3-22|trx-974983174642|      85502|       Michael|         Brown|           4.0|      5.0|         5|        T-Shirt|        Clothing|   true|   null|   null|   null|   null|   10|     19.99|       no|          Cash|            null|michael.brown@hot...|            5|\n",
       "|       2022-9-27|trx-119174604031|      85508|         James|         Smith|           1.0|      3.0|         9|          Boots|        Footwear|   null|   null|   null|   null|   null|    1|    129.99|       no|   Credit Card|            null|james.smith@yahoo...|            0|\n",
       "|        2022-4-3|trx-474525094645|      85549|          Emma|       Johnson|           2.0|      3.0|         2|     Smartphone|     Electronics|   null|   null|   null|   null|   null|    9|    699.99|       no|   Credit Card|            null|emma.johnson@hotm...|            0|\n",
       "|      2022-12-14|trx-355633008132|      85483|          John|       Johnson|           9.0|      5.0|        27|           Iron|      Appliances|   null|   true|   null|   null|   null|    9|     29.99|       no|   Credit Card|            null|john.johnson@yaho...|           10|\n",
       "|       2023-4-14|trx-490311940006|      85496|         James|         Davis|           8.0|      2.0|        19|        Sandals|        Footwear|   null|   true|   null|   null|   null|    2|     29.99|       no|   Credit Card|            null|james.davis@yahoo...|           10|\n",
       "|       2023-1-19|trx-132205124356|      85507|           Ava|        Miller|           2.0|      2.0|        28|     Hair Dryer|      Appliances|   null|   null|   null|   null|   null|    3|     19.99|       no|          Cash|            null|ava.miller@outloo...|            0|\n",
       "|      2023-10-14|trx-276319959382|      85543|        Olivia|         Brown|          10.0|      5.0|        24|        Blender|      Appliances|   null|   null|   null|   null|   null|   10|     49.99|       no|          Cash|            null|olivia.brown@outl...|            0|\n",
       "|       2022-3-24|trx-024853282614|      85518|        Sophia|         Brown|           1.0|      4.0|         3|         Tablet|     Electronics|   null|   null|   true|   null|   null|    1|    299.99|       no|          Cash|            null|sophia.brown@gmai...|           15|\n",
       "+----------------+----------------+-----------+--------------+--------------+--------------+---------+----------+---------------+----------------+-------+-------+-------+-------+-------+-----+----------+---------+--------------+----------------+--------------------+-------------+\n",
       "only showing top 20 rows"
      ]
     },
     "execution_count": 10,
     "metadata": {},
     "output_type": "execute_result"
    }
   ],
   "source": [
    "df_modified"
   ]
  },
  {
   "cell_type": "code",
   "execution_count": 11,
   "id": "87ee3534-ccc7-4115-941a-142e8c4fde35",
   "metadata": {},
   "outputs": [],
   "source": [
    "spark.stop()"
   ]
  },
  {
   "cell_type": "code",
   "execution_count": null,
   "id": "287cf214-396c-4c06-b697-a3a14703b41c",
   "metadata": {},
   "outputs": [],
   "source": []
  }
 ],
 "metadata": {
  "kernelspec": {
   "display_name": "Pyspark 2",
   "language": "python",
   "name": "pyspark2"
  },
  "language_info": {
   "codemirror_mode": {
    "name": "ipython",
    "version": 3
   },
   "file_extension": ".py",
   "mimetype": "text/x-python",
   "name": "python",
   "nbconvert_exporter": "python",
   "pygments_lexer": "ipython3",
   "version": "3.6.9"
  }
 },
 "nbformat": 4,
 "nbformat_minor": 5
}
